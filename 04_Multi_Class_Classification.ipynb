{
 "cells": [
  {
   "cell_type": "code",
   "execution_count": 2,
   "metadata": {},
   "outputs": [],
   "source": [
    "import numpy as np\n",
    "import keras\n",
    "from sklearn import datasets\n",
    "import matplotlib.pyplot as plt\n",
    "from keras.models import Sequential\n",
    "from keras.layers import Dense\n",
    "from keras.optimizers import Adam \n",
    "from keras.utils.np_utils import to_categorical"
   ]
  },
  {
   "cell_type": "code",
   "execution_count": 3,
   "metadata": {},
   "outputs": [],
   "source": [
    "n_pts = 500\n",
    "centers = [[-1, 1], [-1, -1], [1, -1], [1, 1], [0, 0]]\n",
    "X, y = datasets.make_blobs(n_samples=n_pts, random_state = 123, centers=centers, cluster_std=0.4)"
   ]
  },
  {
   "cell_type": "code",
   "execution_count": 4,
   "metadata": {},
   "outputs": [
    {
     "data": {
      "text/plain": [
       "<matplotlib.collections.PathCollection at 0x7f0ae901a8d0>"
      ]
     },
     "execution_count": 4,
     "metadata": {},
     "output_type": "execute_result"
    },
    {
     "data": {
      "text/plain": [
       "<matplotlib.collections.PathCollection at 0x7f0ae901ad68>"
      ]
     },
     "execution_count": 4,
     "metadata": {},
     "output_type": "execute_result"
    },
    {
     "data": {
      "text/plain": [
       "<matplotlib.collections.PathCollection at 0x7f0ae901ac88>"
      ]
     },
     "execution_count": 4,
     "metadata": {},
     "output_type": "execute_result"
    },
    {
     "data": {
      "text/plain": [
       "<matplotlib.collections.PathCollection at 0x7f0ae90213c8>"
      ]
     },
     "execution_count": 4,
     "metadata": {},
     "output_type": "execute_result"
    },
    {
     "data": {
      "text/plain": [
       "<matplotlib.collections.PathCollection at 0x7f0ae90216a0>"
      ]
     },
     "execution_count": 4,
     "metadata": {},
     "output_type": "execute_result"
    },
    {
     "data": {
      "image/png": "[encoded data removed]",
      "text/plain": [
       "<Figure size 432x288 with 1 Axes>"
      ]
     },
     "metadata": {
      "needs_background": "light"
     },
     "output_type": "display_data"
    }
   ],
   "source": [
    "plt.scatter(X[y==0, 0], X[y==0, 1])\n",
    "plt.scatter(X[y==1, 0], X[y==1, 1])\n",
    "plt.scatter(X[y==2, 0], X[y==2, 1])\n",
    "plt.scatter(X[y==3, 0], X[y==3, 1])\n",
    "plt.scatter(X[y==4, 0], X[y==4, 1])"
   ]
  },
  {
   "cell_type": "code",
   "execution_count": 5,
   "metadata": {},
   "outputs": [
    {
     "name": "stdout",
     "output_type": "stream",
     "text": [
      "[3 3 4 0 2 1 1 4 4 4 3 2 1 0 2 4 4 4 3 0 3 0 3 4 1 3 1 0 4 2 3 1 0 4 1 0 4\n",
      " 0 4 0 1 3 3 0 3 1 3 4 0 4 0 2 3 0 2 4 4 0 3 4 1 3 0 4 2 1 1 2 3 2 3 2 1 1\n",
      " 3 2 4 2 2 3 0 2 4 3 2 1 3 3 3 3 1 1 4 2 4 4 1 2 4 1 4 2 2 3 4 1 1 3 3 2 1\n",
      " 3 1 0 1 0 4 4 4 3 1 3 3 3 1 4 4 0 2 0 1 1 0 4 0 1 1 4 4 0 4 3 4 4 2 4 0 0\n",
      " 0 4 2 0 4 1 0 2 2 1 3 0 1 2 2 4 4 1 3 2 3 3 3 2 2 2 4 0 1 1 0 1 4 4 3 2 3\n",
      " 2 3 1 0 3 4 2 1 0 0 0 4 3 0 4 2 2 3 1 0 4 4 1 2 1 3 1 4 4 0 1 4 2 4 0 4 0\n",
      " 1 2 3 0 1 0 3 3 4 3 4 0 0 1 1 3 0 4 1 4 2 1 2 4 4 3 3 1 1 1 4 1 1 1 4 3 1\n",
      " 0 0 2 2 2 3 2 3 4 2 3 3 1 1 0 4 0 3 0 0 0 3 2 2 1 4 2 0 0 2 2 1 3 3 1 3 0\n",
      " 0 1 4 2 2 2 1 0 0 1 0 0 1 2 4 2 4 2 1 3 0 0 1 4 1 2 4 4 4 3 4 1 2 3 1 3 1\n",
      " 0 0 2 4 1 3 1 1 2 1 4 3 1 2 3 2 0 4 1 4 0 2 2 0 1 2 2 4 4 0 4 1 3 3 2 2 0\n",
      " 4 3 3 1 2 2 4 3 0 3 3 3 3 0 1 4 4 4 0 3 3 2 4 0 4 0 0 4 2 2 2 3 0 2 0 0 1\n",
      " 2 3 0 0 2 4 2 3 0 3 0 1 0 4 1 0 0 1 3 1 4 0 2 1 1 3 2 3 2 2 2 3 1 0 0 0 1\n",
      " 3 4 2 1 0 2 1 4 3 3 4 0 0 2 2 0 0 2 2 3 4 3 2 2 2 2 0 1 3 0 2 1 2 0 2 3 4\n",
      " 3 1 4 3 3 0 2 4 0 4 1 3 2 1 3 0 1 2 1]\n",
      "[[0. 0. 0. 1. 0.]\n",
      " [0. 0. 0. 1. 0.]\n",
      " [0. 0. 0. 0. 1.]\n",
      " ...\n",
      " [0. 1. 0. 0. 0.]\n",
      " [0. 0. 1. 0. 0.]\n",
      " [0. 1. 0. 0. 0.]]\n"
     ]
    }
   ],
   "source": [
    "print(y)\n",
    "y_cat = to_categorical(y, 5)\n",
    "print(y_cat)"
   ]
  },
  {
   "cell_type": "code",
   "execution_count": 6,
   "metadata": {},
   "outputs": [
    {
     "name": "stdout",
     "output_type": "stream",
     "text": [
      "Epoch 1/100\n",
      "500/500 [==============================] - 0s - loss: 1.5137 - acc: 0.3640     \n",
      "Epoch 2/100\n",
      "500/500 [==============================] - 0s - loss: 0.9923 - acc: 0.6780     \n",
      "Epoch 3/100\n",
      "500/500 [==============================] - 0s - loss: 0.6101 - acc: 0.8840     \n",
      "Epoch 4/100\n",
      "500/500 [==============================] - 0s - loss: 0.4351 - acc: 0.8620     \n",
      "Epoch 5/100\n",
      "500/500 [==============================] - 0s - loss: 0.3393 - acc: 0.9100     \n",
      "Epoch 6/100\n",
      "500/500 [==============================] - 0s - loss: 0.2903 - acc: 0.9060     \n",
      "Epoch 7/100\n",
      "500/500 [==============================] - 0s - loss: 0.2542 - acc: 0.9280     \n",
      "Epoch 8/100\n",
      "500/500 [==============================] - 0s - loss: 0.2295 - acc: 0.9180     \n",
      "Epoch 9/100\n",
      "500/500 [==============================] - 0s - loss: 0.2125 - acc: 0.9260     \n",
      "Epoch 10/100\n",
      "500/500 [==============================] - 0s - loss: 0.2022 - acc: 0.9220     \n",
      "Epoch 11/100\n",
      "500/500 [==============================] - 0s - loss: 0.1967 - acc: 0.9400     \n",
      "Epoch 12/100\n",
      "500/500 [==============================] - 0s - loss: 0.1838 - acc: 0.9300     \n",
      "Epoch 13/100\n",
      "500/500 [==============================] - 0s - loss: 0.1848 - acc: 0.9460     \n",
      "Epoch 14/100\n",
      "500/500 [==============================] - 0s - loss: 0.1771 - acc: 0.9300     \n",
      "Epoch 15/100\n",
      "500/500 [==============================] - 0s - loss: 0.1778 - acc: 0.9400     \n",
      "Epoch 16/100\n",
      "500/500 [==============================] - 0s - loss: 0.1684 - acc: 0.9440     \n",
      "Epoch 17/100\n",
      "500/500 [==============================] - 0s - loss: 0.1703 - acc: 0.9420     \n",
      "Epoch 18/100\n",
      "500/500 [==============================] - 0s - loss: 0.1716 - acc: 0.9300     \n",
      "Epoch 19/100\n",
      "500/500 [==============================] - 0s - loss: 0.1689 - acc: 0.9440     \n",
      "Epoch 20/100\n",
      "500/500 [==============================] - 0s - loss: 0.1633 - acc: 0.9380     \n",
      "Epoch 21/100\n",
      "500/500 [==============================] - 0s - loss: 0.1672 - acc: 0.9440     \n",
      "Epoch 22/100\n",
      "500/500 [==============================] - 0s - loss: 0.1666 - acc: 0.9380     \n",
      "Epoch 23/100\n",
      "500/500 [==============================] - 0s - loss: 0.1600 - acc: 0.9380     \n",
      "Epoch 24/100\n",
      "500/500 [==============================] - 0s - loss: 0.1619 - acc: 0.9500     \n",
      "Epoch 25/100\n",
      "500/500 [==============================] - 0s - loss: 0.1703 - acc: 0.9320     \n",
      "Epoch 26/100\n",
      "500/500 [==============================] - 0s - loss: 0.1599 - acc: 0.9420     \n",
      "Epoch 27/100\n",
      "500/500 [==============================] - 0s - loss: 0.1583 - acc: 0.9420     \n",
      "Epoch 28/100\n",
      "500/500 [==============================] - 0s - loss: 0.1622 - acc: 0.9340     \n",
      "Epoch 29/100\n",
      "500/500 [==============================] - 0s - loss: 0.1546 - acc: 0.9500     \n",
      "Epoch 30/100\n",
      "500/500 [==============================] - 0s - loss: 0.1590 - acc: 0.9440     \n",
      "Epoch 31/100\n",
      "500/500 [==============================] - 0s - loss: 0.1629 - acc: 0.9440     \n",
      "Epoch 32/100\n",
      "500/500 [==============================] - 0s - loss: 0.1581 - acc: 0.9420     \n",
      "Epoch 33/100\n",
      "500/500 [==============================] - 0s - loss: 0.1571 - acc: 0.9360     \n",
      "Epoch 34/100\n",
      "500/500 [==============================] - 0s - loss: 0.1596 - acc: 0.9480     \n",
      "Epoch 35/100\n",
      "500/500 [==============================] - 0s - loss: 0.1710 - acc: 0.9420     \n",
      "Epoch 36/100\n",
      "500/500 [==============================] - 0s - loss: 0.1811 - acc: 0.9340     \n",
      "Epoch 37/100\n",
      "500/500 [==============================] - 0s - loss: 0.1688 - acc: 0.9340     \n",
      "Epoch 38/100\n",
      "500/500 [==============================] - 0s - loss: 0.1622 - acc: 0.9400     \n",
      "Epoch 39/100\n",
      "500/500 [==============================] - 0s - loss: 0.1569 - acc: 0.9400     \n",
      "Epoch 40/100\n",
      "500/500 [==============================] - 0s - loss: 0.1604 - acc: 0.9400     \n",
      "Epoch 41/100\n",
      "500/500 [==============================] - 0s - loss: 0.1540 - acc: 0.9460     \n",
      "Epoch 42/100\n",
      "500/500 [==============================] - 0s - loss: 0.1536 - acc: 0.9400     \n",
      "Epoch 43/100\n",
      "500/500 [==============================] - 0s - loss: 0.1541 - acc: 0.9460     \n",
      "Epoch 44/100\n",
      "500/500 [==============================] - 0s - loss: 0.1556 - acc: 0.9440     \n",
      "Epoch 45/100\n",
      "500/500 [==============================] - 0s - loss: 0.1564 - acc: 0.9480     \n",
      "Epoch 46/100\n",
      "500/500 [==============================] - 0s - loss: 0.1685 - acc: 0.9380     \n",
      "Epoch 47/100\n",
      "500/500 [==============================] - 0s - loss: 0.1602 - acc: 0.9420     \n",
      "Epoch 48/100\n",
      "500/500 [==============================] - 0s - loss: 0.1584 - acc: 0.9420     \n",
      "Epoch 49/100\n",
      "500/500 [==============================] - 0s - loss: 0.1578 - acc: 0.9460     \n",
      "Epoch 50/100\n",
      "500/500 [==============================] - 0s - loss: 0.1533 - acc: 0.9440     \n",
      "Epoch 51/100\n",
      "500/500 [==============================] - 0s - loss: 0.1549 - acc: 0.9400     \n",
      "Epoch 52/100\n",
      "500/500 [==============================] - 0s - loss: 0.1525 - acc: 0.9460     \n",
      "Epoch 53/100\n",
      "500/500 [==============================] - 0s - loss: 0.1545 - acc: 0.9440     \n",
      "Epoch 54/100\n",
      "500/500 [==============================] - 0s - loss: 0.1516 - acc: 0.9500     \n",
      "Epoch 55/100\n",
      "500/500 [==============================] - 0s - loss: 0.1576 - acc: 0.9400     \n",
      "Epoch 56/100\n",
      "500/500 [==============================] - 0s - loss: 0.1563 - acc: 0.9460     \n",
      "Epoch 57/100\n",
      "500/500 [==============================] - 0s - loss: 0.1565 - acc: 0.9440     \n",
      "Epoch 58/100\n",
      "500/500 [==============================] - 0s - loss: 0.1550 - acc: 0.9420     \n",
      "Epoch 59/100\n",
      "500/500 [==============================] - 0s - loss: 0.1518 - acc: 0.9440     \n",
      "Epoch 60/100\n",
      "500/500 [==============================] - 0s - loss: 0.1519 - acc: 0.9460     \n",
      "Epoch 61/100\n",
      "500/500 [==============================] - 0s - loss: 0.1519 - acc: 0.9420     \n",
      "Epoch 62/100\n",
      "500/500 [==============================] - 0s - loss: 0.1509 - acc: 0.9480     \n",
      "Epoch 63/100\n",
      "500/500 [==============================] - 0s - loss: 0.1556 - acc: 0.9440     \n",
      "Epoch 64/100\n",
      "500/500 [==============================] - 0s - loss: 0.1524 - acc: 0.9440     \n",
      "Epoch 65/100\n",
      "500/500 [==============================] - 0s - loss: 0.1524 - acc: 0.9360     \n",
      "Epoch 66/100\n",
      "500/500 [==============================] - 0s - loss: 0.1499 - acc: 0.9460     \n",
      "Epoch 67/100\n",
      "500/500 [==============================] - 0s - loss: 0.1533 - acc: 0.9460     \n",
      "Epoch 68/100\n",
      "500/500 [==============================] - 0s - loss: 0.1520 - acc: 0.9420     \n",
      "Epoch 69/100\n",
      "500/500 [==============================] - 0s - loss: 0.1490 - acc: 0.9480     \n",
      "Epoch 70/100\n",
      "500/500 [==============================] - 0s - loss: 0.1562 - acc: 0.9400     \n",
      "Epoch 71/100\n",
      "500/500 [==============================] - 0s - loss: 0.1582 - acc: 0.9380     \n",
      "Epoch 72/100\n",
      "500/500 [==============================] - 0s - loss: 0.1561 - acc: 0.9360     \n",
      "Epoch 73/100\n",
      "500/500 [==============================] - 0s - loss: 0.1547 - acc: 0.9420     \n",
      "Epoch 74/100\n",
      "500/500 [==============================] - 0s - loss: 0.1516 - acc: 0.9440     \n",
      "Epoch 75/100\n",
      "500/500 [==============================] - 0s - loss: 0.1565 - acc: 0.9440     \n",
      "Epoch 76/100\n",
      "500/500 [==============================] - 0s - loss: 0.1507 - acc: 0.9380     \n",
      "Epoch 77/100\n",
      "500/500 [==============================] - 0s - loss: 0.1502 - acc: 0.9460     \n",
      "Epoch 78/100\n",
      "500/500 [==============================] - 0s - loss: 0.1503 - acc: 0.9460     \n",
      "Epoch 79/100\n",
      "500/500 [==============================] - 0s - loss: 0.1489 - acc: 0.9460     \n",
      "Epoch 80/100\n",
      "500/500 [==============================] - 0s - loss: 0.1525 - acc: 0.9400     \n",
      "Epoch 81/100\n",
      "500/500 [==============================] - 0s - loss: 0.1594 - acc: 0.9420     \n",
      "Epoch 82/100\n",
      "500/500 [==============================] - 0s - loss: 0.1530 - acc: 0.9520     \n",
      "Epoch 83/100\n",
      "500/500 [==============================] - 0s - loss: 0.1516 - acc: 0.9400     \n",
      "Epoch 84/100\n",
      "500/500 [==============================] - 0s - loss: 0.1528 - acc: 0.9400     \n",
      "Epoch 85/100\n",
      "500/500 [==============================] - 0s - loss: 0.1514 - acc: 0.9480     \n",
      "Epoch 86/100\n",
      "500/500 [==============================] - 0s - loss: 0.1549 - acc: 0.9420     \n",
      "Epoch 87/100\n",
      "500/500 [==============================] - 0s - loss: 0.1532 - acc: 0.9460     \n",
      "Epoch 88/100\n",
      "500/500 [==============================] - 0s - loss: 0.1550 - acc: 0.9380     \n",
      "Epoch 89/100\n",
      "500/500 [==============================] - 0s - loss: 0.1482 - acc: 0.9500     \n",
      "Epoch 90/100\n",
      "500/500 [==============================] - 0s - loss: 0.1515 - acc: 0.9500     \n",
      "Epoch 91/100\n",
      "500/500 [==============================] - 0s - loss: 0.1501 - acc: 0.9380     \n",
      "Epoch 92/100\n",
      "500/500 [==============================] - 0s - loss: 0.1487 - acc: 0.9460     \n",
      "Epoch 93/100\n",
      "500/500 [==============================] - 0s - loss: 0.1532 - acc: 0.9360     \n",
      "Epoch 94/100\n",
      "500/500 [==============================] - 0s - loss: 0.1460 - acc: 0.9500     \n",
      "Epoch 95/100\n",
      "500/500 [==============================] - 0s - loss: 0.1540 - acc: 0.9500     \n",
      "Epoch 96/100\n",
      "500/500 [==============================] - 0s - loss: 0.1494 - acc: 0.9460     \n",
      "Epoch 97/100\n",
      "500/500 [==============================] - 0s - loss: 0.1480 - acc: 0.9420     \n",
      "Epoch 98/100\n",
      "500/500 [==============================] - 0s - loss: 0.1459 - acc: 0.9500     \n",
      "Epoch 99/100\n",
      "500/500 [==============================] - 0s - loss: 0.1521 - acc: 0.9460     \n",
      "Epoch 100/100\n",
      "500/500 [==============================] - 0s - loss: 0.1470 - acc: 0.9400     \n"
     ]
    }
   ],
   "source": [
    "model = Sequential()\n",
    "model.add(Dense(5, input_shape=(2,), activation='sigmoid'))\n",
    "model.add(Dense(5, activation='softmax'))\n",
    "model.compile(Adam(lr=0.1), 'categorical_crossentropy', metrics=['accuracy'])\n",
    "#one hot encode output\n",
    "h = model.fit(X, y_cat, verbose=1, batch_size = 50, epochs=100)"
   ]
  },
  {
   "cell_type": "code",
   "execution_count": 7,
   "metadata": {},
   "outputs": [
    {
     "data": {
      "text/plain": [
       "[<matplotlib.lines.Line2D at 0x7f0ae04677f0>]"
      ]
     },
     "execution_count": 7,
     "metadata": {},
     "output_type": "execute_result"
    },
    {
     "data": {
      "text/plain": [
       "<matplotlib.legend.Legend at 0x7f0ae0467be0>"
      ]
     },
     "execution_count": 7,
     "metadata": {},
     "output_type": "execute_result"
    },
    {
     "data": {
      "text/plain": [
       "Text(0, 0.5, 'accuracy')"
      ]
     },
     "execution_count": 7,
     "metadata": {},
     "output_type": "execute_result"
    },
    {
     "data": {
      "text/plain": [
       "Text(0.5, 0, 'epoch')"
      ]
     },
     "execution_count": 7,
     "metadata": {},
     "output_type": "execute_result"
    },
    {
     "data": {
      "image/png": "[encoded data removed]",
      "text/plain": [
       "<Figure size 432x288 with 1 Axes>"
      ]
     },
     "metadata": {
      "needs_background": "light"
     },
     "output_type": "display_data"
    }
   ],
   "source": [
    "plt.plot(h.history['acc'])\n",
    "plt.legend(['accuracy'])\n",
    "plt.ylabel('accuracy')\n",
    "plt.xlabel('epoch')"
   ]
  },
  {
   "cell_type": "code",
   "execution_count": 8,
   "metadata": {},
   "outputs": [
    {
     "data": {
      "text/plain": [
       "[<matplotlib.lines.Line2D at 0x7f0ae044f748>]"
      ]
     },
     "execution_count": 8,
     "metadata": {},
     "output_type": "execute_result"
    },
    {
     "data": {
      "text/plain": [
       "<matplotlib.legend.Legend at 0x7f0ae041d2b0>"
      ]
     },
     "execution_count": 8,
     "metadata": {},
     "output_type": "execute_result"
    },
    {
     "data": {
      "text/plain": [
       "Text(0.5, 1.0, 'loss')"
      ]
     },
     "execution_count": 8,
     "metadata": {},
     "output_type": "execute_result"
    },
    {
     "data": {
      "text/plain": [
       "Text(0.5, 0, 'epoch')"
      ]
     },
     "execution_count": 8,
     "metadata": {},
     "output_type": "execute_result"
    },
    {
     "data": {
      "image/png": "[encoded data removed]",
      "text/plain": [
       "<Figure size 432x288 with 1 Axes>"
      ]
     },
     "metadata": {
      "needs_background": "light"
     },
     "output_type": "display_data"
    }
   ],
   "source": [
    "plt.plot(h.history['loss'])\n",
    "plt.legend(['loss'])\n",
    "plt.title('loss')\n",
    "plt.xlabel('epoch')"
   ]
  },
  {
   "cell_type": "code",
   "execution_count": 9,
   "metadata": {},
   "outputs": [],
   "source": [
    "def plot_multiclass_decision_boundary(X, y, model):\n",
    "    x_span = np.linspace(min(X[:,0]) - 1, max(X[:,0]) + 1)\n",
    "    y_span = np.linspace(min(X[:,1]) - 1, max(X[:,1]) + 1)\n",
    "    xx, yy = np.meshgrid(x_span, y_span)\n",
    "    grid = np.c_[xx.ravel(), yy.ravel()]\n",
    "    pred_func = model.predict_classes(grid)\n",
    "    z = pred_func.reshape(xx.shape)\n",
    "    plt.contourf(xx, yy, z)"
   ]
  },
  {
   "cell_type": "code",
   "execution_count": 10,
   "metadata": {},
   "outputs": [
    {
     "name": "stdout",
     "output_type": "stream",
     "text": [
      "  32/2500 [..............................] - ETA: 0s"
     ]
    },
    {
     "data": {
      "text/plain": [
       "<matplotlib.collections.PathCollection at 0x7f0ae04534a8>"
      ]
     },
     "execution_count": 10,
     "metadata": {},
     "output_type": "execute_result"
    },
    {
     "data": {
      "text/plain": [
       "<matplotlib.collections.PathCollection at 0x7f0ae03e4c88>"
      ]
     },
     "execution_count": 10,
     "metadata": {},
     "output_type": "execute_result"
    },
    {
     "data": {
      "text/plain": [
       "<matplotlib.collections.PathCollection at 0x7f0ae03759e8>"
      ]
     },
     "execution_count": 10,
     "metadata": {},
     "output_type": "execute_result"
    },
    {
     "data": {
      "text/plain": [
       "<matplotlib.collections.PathCollection at 0x7f0ae0375c88>"
      ]
     },
     "execution_count": 10,
     "metadata": {},
     "output_type": "execute_result"
    },
    {
     "data": {
      "text/plain": [
       "<matplotlib.collections.PathCollection at 0x7f0ae0375f98>"
      ]
     },
     "execution_count": 10,
     "metadata": {},
     "output_type": "execute_result"
    },
    {
     "data": {
      "image/png": "[encoded data removed]",
      "text/plain": [
       "<Figure size 432x288 with 1 Axes>"
      ]
     },
     "metadata": {
      "needs_background": "light"
     },
     "output_type": "display_data"
    }
   ],
   "source": [
    "plot_multiclass_decision_boundary(X, y_cat, model)\n",
    "plt.scatter(X[y==0, 0], X[y==0, 1])\n",
    "plt.scatter(X[y==1, 0], X[y==1, 1])\n",
    "plt.scatter(X[y==2, 0], X[y==2, 1])\n",
    "plt.scatter(X[y==3, 0], X[y==3, 1])\n",
    "plt.scatter(X[y==4, 0], X[y==4, 1])"
   ]
  },
  {
   "cell_type": "code",
   "execution_count": 11,
   "metadata": {},
   "outputs": [
    {
     "name": "stdout",
     "output_type": "stream",
     "text": [
      "2144/2500 [========================>.....] - ETA: 0s"
     ]
    },
    {
     "data": {
      "text/plain": [
       "<matplotlib.collections.PathCollection at 0x7f0ae0389ac8>"
      ]
     },
     "execution_count": 11,
     "metadata": {},
     "output_type": "execute_result"
    },
    {
     "data": {
      "text/plain": [
       "<matplotlib.collections.PathCollection at 0x7f0ae0339198>"
      ]
     },
     "execution_count": 11,
     "metadata": {},
     "output_type": "execute_result"
    },
    {
     "data": {
      "text/plain": [
       "<matplotlib.collections.PathCollection at 0x7f0ae0341e80>"
      ]
     },
     "execution_count": 11,
     "metadata": {},
     "output_type": "execute_result"
    },
    {
     "data": {
      "text/plain": [
       "<matplotlib.collections.PathCollection at 0x7f0ae0341ba8>"
      ]
     },
     "execution_count": 11,
     "metadata": {},
     "output_type": "execute_result"
    },
    {
     "data": {
      "text/plain": [
       "<matplotlib.collections.PathCollection at 0x7f0ae034e240>"
      ]
     },
     "execution_count": 11,
     "metadata": {},
     "output_type": "execute_result"
    },
    {
     "name": "stdout",
     "output_type": "stream",
     "text": [
      "1/1 [==============================] - 0s\n"
     ]
    },
    {
     "data": {
      "text/plain": [
       "[<matplotlib.lines.Line2D at 0x7f0ae0341e10>]"
      ]
     },
     "execution_count": 11,
     "metadata": {},
     "output_type": "execute_result"
    },
    {
     "name": "stdout",
     "output_type": "stream",
     "text": [
      "Prediction is:  [4]\n"
     ]
    },
    {
     "data": {
      "image/png": "[encoded data removed]",
      "text/plain": [
       "<Figure size 432x288 with 1 Axes>"
      ]
     },
     "metadata": {
      "needs_background": "light"
     },
     "output_type": "display_data"
    }
   ],
   "source": [
    "plot_multiclass_decision_boundary(X, y_cat, model)\n",
    "plt.scatter(X[y==0, 0], X[y==0, 1])\n",
    "plt.scatter(X[y==1, 0], X[y==1, 1])\n",
    "plt.scatter(X[y==2, 0], X[y==2, 1])\n",
    "plt.scatter(X[y==3, 0], X[y==3, 1])\n",
    "plt.scatter(X[y==4, 0], X[y==4, 1])\n",
    "x = -0.5\n",
    "y = -0.5\n",
    "\n",
    "point = np.array([[x, y]])\n",
    "prediction = model.predict_classes(point)\n",
    "plt.plot([x], [y], marker='o', markersize=10, color=\"green\")\n",
    "print(\"Prediction is: \", prediction)"
   ]
  },
  {
   "cell_type": "code",
   "execution_count": null,
   "metadata": {},
   "outputs": [],
   "source": []
  }
 ],
 "metadata": {
  "kernelspec": {
   "display_name": "Python 3",
   "language": "python",
   "name": "python3"
  },
  "language_info": {
   "codemirror_mode": {
    "name": "ipython",
    "version": 3
   },
   "file_extension": ".py",
   "mimetype": "text/x-python",
   "name": "python",
   "nbconvert_exporter": "python",
   "pygments_lexer": "ipython3",
   "version": "3.5.6"
  }
 },
 "nbformat": 4,
 "nbformat_minor": 2
}
