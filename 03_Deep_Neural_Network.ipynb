{
 "cells": [
  {
   "cell_type": "code",
   "execution_count": 1,
   "metadata": {},
   "outputs": [
    {
     "name": "stderr",
     "output_type": "stream",
     "text": [
      "Using TensorFlow backend.\n"
     ]
    }
   ],
   "source": [
    "import numpy as np\n",
    "import matplotlib.pyplot as plt\n",
    "import keras\n",
    "from keras.models import Sequential\n",
    "from keras.layers import Dense\n",
    "from keras.optimizers import Adam\n",
    "from sklearn import datasets\n"
   ]
  },
  {
   "cell_type": "code",
   "execution_count": 2,
   "metadata": {},
   "outputs": [],
   "source": [
    "np.random.seed(0)"
   ]
  },
  {
   "cell_type": "code",
   "execution_count": 3,
   "metadata": {},
   "outputs": [
    {
     "data": {
      "text/plain": [
       "<matplotlib.collections.PathCollection at 0x7fe182df5860>"
      ]
     },
     "execution_count": 3,
     "metadata": {},
     "output_type": "execute_result"
    },
    {
     "data": {
      "text/plain": [
       "<matplotlib.collections.PathCollection at 0x7fe182df5c50>"
      ]
     },
     "execution_count": 3,
     "metadata": {},
     "output_type": "execute_result"
    },
    {
     "data": {
      "image/png": "[encoded data removed]",
      "text/plain": [
       "<Figure size 432x288 with 1 Axes>"
      ]
     },
     "metadata": {
      "needs_background": "light"
     },
     "output_type": "display_data"
    }
   ],
   "source": [
    "n_pts = 500\n",
    "X, y = datasets.make_circles(n_samples=n_pts, random_state=123,noise=0.1,factor=0.2)\n",
    "plt.scatter(X[y==0,0],X[y==0, 1])\n",
    "plt.scatter(X[y==1,0],X[y==1, 1])"
   ]
  },
  {
   "cell_type": "code",
   "execution_count": 4,
   "metadata": {},
   "outputs": [],
   "source": [
    "model = Sequential()\n",
    "model.add(Dense(4,input_shape=(2,),activation='sigmoid'))\n",
    "model.add(Dense(1, activation='sigmoid'))\n",
    "model.compile(Adam(lr=0.01), 'binary_crossentropy', metrics=['accuracy'])"
   ]
  },
  {
   "cell_type": "code",
   "execution_count": 5,
   "metadata": {},
   "outputs": [
    {
     "name": "stdout",
     "output_type": "stream",
     "text": [
      "Epoch 1/100\n",
      "500/500 [==============================] - 1s 1ms/step - loss: 0.6962 - acc: 0.5140\n",
      "Epoch 2/100\n",
      "500/500 [==============================] - 0s 84us/step - loss: 0.6938 - acc: 0.6180\n",
      "Epoch 3/100\n",
      "500/500 [==============================] - 0s 81us/step - loss: 0.6926 - acc: 0.5140\n",
      "Epoch 4/100\n",
      "500/500 [==============================] - 0s 79us/step - loss: 0.6916 - acc: 0.6760\n",
      "Epoch 5/100\n",
      "500/500 [==============================] - 0s 81us/step - loss: 0.6905 - acc: 0.6340\n",
      "Epoch 6/100\n",
      "500/500 [==============================] - 0s 80us/step - loss: 0.6890 - acc: 0.3640\n",
      "Epoch 7/100\n",
      "500/500 [==============================] - 0s 80us/step - loss: 0.6865 - acc: 0.6500\n",
      "Epoch 8/100\n",
      "500/500 [==============================] - 0s 83us/step - loss: 0.6838 - acc: 0.6740\n",
      "Epoch 9/100\n",
      "500/500 [==============================] - 0s 81us/step - loss: 0.6796 - acc: 0.7620\n",
      "Epoch 10/100\n",
      "500/500 [==============================] - 0s 80us/step - loss: 0.6733 - acc: 0.7980\n",
      "Epoch 11/100\n",
      "500/500 [==============================] - 0s 84us/step - loss: 0.6658 - acc: 0.8380\n",
      "Epoch 12/100\n",
      "500/500 [==============================] - 0s 80us/step - loss: 0.6546 - acc: 0.8560\n",
      "Epoch 13/100\n",
      "500/500 [==============================] - 0s 83us/step - loss: 0.6420 - acc: 0.8780\n",
      "Epoch 14/100\n",
      "500/500 [==============================] - 0s 81us/step - loss: 0.6267 - acc: 0.8920\n",
      "Epoch 15/100\n",
      "500/500 [==============================] - 0s 82us/step - loss: 0.6075 - acc: 0.8800\n",
      "Epoch 16/100\n",
      "500/500 [==============================] - 0s 81us/step - loss: 0.5881 - acc: 0.8700\n",
      "Epoch 17/100\n",
      "500/500 [==============================] - 0s 80us/step - loss: 0.5674 - acc: 0.8860\n",
      "Epoch 18/100\n",
      "500/500 [==============================] - 0s 82us/step - loss: 0.5440 - acc: 0.8560\n",
      "Epoch 19/100\n",
      "500/500 [==============================] - 0s 82us/step - loss: 0.5218 - acc: 0.8860\n",
      "Epoch 20/100\n",
      "500/500 [==============================] - 0s 81us/step - loss: 0.4974 - acc: 0.8880\n",
      "Epoch 21/100\n",
      "500/500 [==============================] - 0s 79us/step - loss: 0.4749 - acc: 0.8880\n",
      "Epoch 22/100\n",
      "500/500 [==============================] - 0s 85us/step - loss: 0.4521 - acc: 0.8920\n",
      "Epoch 23/100\n",
      "500/500 [==============================] - 0s 83us/step - loss: 0.4298 - acc: 0.8920\n",
      "Epoch 24/100\n",
      "500/500 [==============================] - 0s 80us/step - loss: 0.4090 - acc: 0.9040\n",
      "Epoch 25/100\n",
      "500/500 [==============================] - 0s 80us/step - loss: 0.3896 - acc: 0.9000\n",
      "Epoch 26/100\n",
      "500/500 [==============================] - 0s 79us/step - loss: 0.3698 - acc: 0.9140\n",
      "Epoch 27/100\n",
      "500/500 [==============================] - 0s 81us/step - loss: 0.3514 - acc: 0.9100\n",
      "Epoch 28/100\n",
      "500/500 [==============================] - 0s 79us/step - loss: 0.3342 - acc: 0.9160\n",
      "Epoch 29/100\n",
      "500/500 [==============================] - 0s 80us/step - loss: 0.3174 - acc: 0.9180\n",
      "Epoch 30/100\n",
      "500/500 [==============================] - 0s 82us/step - loss: 0.3019 - acc: 0.9220\n",
      "Epoch 31/100\n",
      "500/500 [==============================] - 0s 80us/step - loss: 0.2869 - acc: 0.9240\n",
      "Epoch 32/100\n",
      "500/500 [==============================] - 0s 80us/step - loss: 0.2732 - acc: 0.9320\n",
      "Epoch 33/100\n",
      "500/500 [==============================] - 0s 85us/step - loss: 0.2604 - acc: 0.9420\n",
      "Epoch 34/100\n",
      "500/500 [==============================] - 0s 82us/step - loss: 0.2484 - acc: 0.9440\n",
      "Epoch 35/100\n",
      "500/500 [==============================] - 0s 83us/step - loss: 0.2367 - acc: 0.9640\n",
      "Epoch 36/100\n",
      "500/500 [==============================] - 0s 81us/step - loss: 0.2256 - acc: 0.9800\n",
      "Epoch 37/100\n",
      "500/500 [==============================] - 0s 84us/step - loss: 0.2158 - acc: 0.9860\n",
      "Epoch 38/100\n",
      "500/500 [==============================] - 0s 85us/step - loss: 0.2058 - acc: 0.9860\n",
      "Epoch 39/100\n",
      "500/500 [==============================] - 0s 85us/step - loss: 0.1965 - acc: 0.9900\n",
      "Epoch 40/100\n",
      "500/500 [==============================] - 0s 81us/step - loss: 0.1874 - acc: 0.9940\n",
      "Epoch 41/100\n",
      "500/500 [==============================] - 0s 81us/step - loss: 0.1791 - acc: 0.9940\n",
      "Epoch 42/100\n",
      "500/500 [==============================] - 0s 80us/step - loss: 0.1711 - acc: 0.9940\n",
      "Epoch 43/100\n",
      "500/500 [==============================] - 0s 82us/step - loss: 0.1634 - acc: 0.9960\n",
      "Epoch 44/100\n",
      "500/500 [==============================] - 0s 85us/step - loss: 0.1560 - acc: 0.9960\n",
      "Epoch 45/100\n",
      "500/500 [==============================] - 0s 85us/step - loss: 0.1491 - acc: 0.9960\n",
      "Epoch 46/100\n",
      "500/500 [==============================] - 0s 80us/step - loss: 0.1419 - acc: 0.9960\n",
      "Epoch 47/100\n",
      "500/500 [==============================] - 0s 82us/step - loss: 0.1350 - acc: 0.9960\n",
      "Epoch 48/100\n",
      "500/500 [==============================] - 0s 81us/step - loss: 0.1281 - acc: 0.9960\n",
      "Epoch 49/100\n",
      "500/500 [==============================] - 0s 80us/step - loss: 0.1210 - acc: 0.9960\n",
      "Epoch 50/100\n",
      "500/500 [==============================] - 0s 82us/step - loss: 0.1145 - acc: 0.9960\n",
      "Epoch 51/100\n",
      "500/500 [==============================] - 0s 83us/step - loss: 0.1079 - acc: 0.9960\n",
      "Epoch 52/100\n",
      "500/500 [==============================] - 0s 80us/step - loss: 0.1019 - acc: 0.9960\n",
      "Epoch 53/100\n",
      "500/500 [==============================] - 0s 84us/step - loss: 0.0964 - acc: 0.9960\n",
      "Epoch 54/100\n",
      "500/500 [==============================] - 0s 81us/step - loss: 0.0911 - acc: 0.9960\n",
      "Epoch 55/100\n",
      "500/500 [==============================] - 0s 93us/step - loss: 0.0865 - acc: 0.9960\n",
      "Epoch 56/100\n",
      "500/500 [==============================] - 0s 81us/step - loss: 0.0822 - acc: 0.9960\n",
      "Epoch 57/100\n",
      "500/500 [==============================] - 0s 81us/step - loss: 0.0781 - acc: 0.9980\n",
      "Epoch 58/100\n",
      "500/500 [==============================] - 0s 82us/step - loss: 0.0745 - acc: 0.9980\n",
      "Epoch 59/100\n",
      "500/500 [==============================] - 0s 82us/step - loss: 0.0712 - acc: 0.9980\n",
      "Epoch 60/100\n",
      "500/500 [==============================] - 0s 80us/step - loss: 0.0681 - acc: 0.9980\n",
      "Epoch 61/100\n",
      "500/500 [==============================] - 0s 81us/step - loss: 0.0652 - acc: 0.9980\n",
      "Epoch 62/100\n",
      "500/500 [==============================] - 0s 80us/step - loss: 0.0625 - acc: 0.9980\n",
      "Epoch 63/100\n",
      "500/500 [==============================] - 0s 82us/step - loss: 0.0601 - acc: 0.9980\n",
      "Epoch 64/100\n",
      "500/500 [==============================] - 0s 82us/step - loss: 0.0577 - acc: 0.9980\n",
      "Epoch 65/100\n",
      "500/500 [==============================] - 0s 82us/step - loss: 0.0556 - acc: 0.9980\n",
      "Epoch 66/100\n",
      "500/500 [==============================] - 0s 83us/step - loss: 0.0536 - acc: 0.9980\n",
      "Epoch 67/100\n",
      "500/500 [==============================] - 0s 85us/step - loss: 0.0517 - acc: 0.9980\n",
      "Epoch 68/100\n",
      "500/500 [==============================] - 0s 83us/step - loss: 0.0499 - acc: 0.9980\n",
      "Epoch 69/100\n",
      "500/500 [==============================] - 0s 83us/step - loss: 0.0482 - acc: 0.9980\n",
      "Epoch 70/100\n",
      "500/500 [==============================] - 0s 81us/step - loss: 0.0466 - acc: 0.9980\n",
      "Epoch 71/100\n",
      "500/500 [==============================] - 0s 81us/step - loss: 0.0452 - acc: 0.9980\n",
      "Epoch 72/100\n",
      "500/500 [==============================] - 0s 81us/step - loss: 0.0437 - acc: 0.9980\n",
      "Epoch 73/100\n",
      "500/500 [==============================] - 0s 80us/step - loss: 0.0424 - acc: 0.9980\n",
      "Epoch 74/100\n",
      "500/500 [==============================] - 0s 80us/step - loss: 0.0411 - acc: 0.9980\n",
      "Epoch 75/100\n",
      "500/500 [==============================] - 0s 83us/step - loss: 0.0399 - acc: 0.9980\n",
      "Epoch 76/100\n",
      "500/500 [==============================] - 0s 80us/step - loss: 0.0387 - acc: 0.9980\n",
      "Epoch 77/100\n",
      "500/500 [==============================] - 0s 82us/step - loss: 0.0377 - acc: 0.9980\n",
      "Epoch 78/100\n",
      "500/500 [==============================] - 0s 81us/step - loss: 0.0366 - acc: 0.9980\n",
      "Epoch 79/100\n",
      "500/500 [==============================] - 0s 81us/step - loss: 0.0356 - acc: 0.9980\n",
      "Epoch 80/100\n",
      "500/500 [==============================] - 0s 82us/step - loss: 0.0347 - acc: 0.9980\n",
      "Epoch 81/100\n",
      "500/500 [==============================] - 0s 83us/step - loss: 0.0339 - acc: 0.9980\n",
      "Epoch 82/100\n",
      "500/500 [==============================] - 0s 85us/step - loss: 0.0329 - acc: 0.9980\n",
      "Epoch 83/100\n",
      "500/500 [==============================] - 0s 83us/step - loss: 0.0320 - acc: 0.9980\n",
      "Epoch 84/100\n",
      "500/500 [==============================] - 0s 82us/step - loss: 0.0312 - acc: 0.9980\n",
      "Epoch 85/100\n",
      "500/500 [==============================] - 0s 84us/step - loss: 0.0305 - acc: 0.9980\n",
      "Epoch 86/100\n",
      "500/500 [==============================] - 0s 81us/step - loss: 0.0297 - acc: 1.0000\n",
      "Epoch 87/100\n",
      "500/500 [==============================] - 0s 85us/step - loss: 0.0290 - acc: 1.0000\n",
      "Epoch 88/100\n",
      "500/500 [==============================] - 0s 83us/step - loss: 0.0283 - acc: 1.0000\n",
      "Epoch 89/100\n",
      "500/500 [==============================] - 0s 88us/step - loss: 0.0276 - acc: 1.0000\n",
      "Epoch 90/100\n",
      "500/500 [==============================] - 0s 84us/step - loss: 0.0270 - acc: 1.0000\n",
      "Epoch 91/100\n",
      "500/500 [==============================] - 0s 82us/step - loss: 0.0264 - acc: 1.0000\n",
      "Epoch 92/100\n",
      "500/500 [==============================] - 0s 83us/step - loss: 0.0258 - acc: 1.0000\n",
      "Epoch 93/100\n",
      "500/500 [==============================] - 0s 80us/step - loss: 0.0252 - acc: 1.0000\n",
      "Epoch 94/100\n",
      "500/500 [==============================] - 0s 84us/step - loss: 0.0247 - acc: 1.0000\n",
      "Epoch 95/100\n",
      "500/500 [==============================] - 0s 81us/step - loss: 0.0242 - acc: 1.0000\n",
      "Epoch 96/100\n",
      "500/500 [==============================] - 0s 82us/step - loss: 0.0236 - acc: 1.0000\n",
      "Epoch 97/100\n",
      "500/500 [==============================] - 0s 85us/step - loss: 0.0232 - acc: 1.0000\n",
      "Epoch 98/100\n",
      "500/500 [==============================] - 0s 83us/step - loss: 0.0227 - acc: 1.0000\n",
      "Epoch 99/100\n",
      "500/500 [==============================] - 0s 81us/step - loss: 0.0222 - acc: 1.0000\n",
      "Epoch 100/100\n",
      "500/500 [==============================] - 0s 82us/step - loss: 0.0217 - acc: 1.0000\n"
     ]
    }
   ],
   "source": [
    "h = model.fit(x=X, y=y, verbose = 1, epochs=100, batch_size=20,shuffle='true')"
   ]
  },
  {
   "cell_type": "code",
   "execution_count": 6,
   "metadata": {},
   "outputs": [
    {
     "data": {
      "text/plain": [
       "[<matplotlib.lines.Line2D at 0x7fe177fcc9b0>]"
      ]
     },
     "execution_count": 6,
     "metadata": {},
     "output_type": "execute_result"
    },
    {
     "data": {
      "text/plain": [
       "<matplotlib.legend.Legend at 0x7fe177fccda0>"
      ]
     },
     "execution_count": 6,
     "metadata": {},
     "output_type": "execute_result"
    },
    {
     "data": {
      "text/plain": [
       "Text(0, 0.5, 'accuracy')"
      ]
     },
     "execution_count": 6,
     "metadata": {},
     "output_type": "execute_result"
    },
    {
     "data": {
      "text/plain": [
       "Text(0.5, 0, 'epoch')"
      ]
     },
     "execution_count": 6,
     "metadata": {},
     "output_type": "execute_result"
    },
    {
     "data": {
      "image/png": "[encoded data removed]",
      "text/plain": [
       "<Figure size 432x288 with 1 Axes>"
      ]
     },
     "metadata": {
      "needs_background": "light"
     },
     "output_type": "display_data"
    }
   ],
   "source": [
    "plt.plot(h.history['acc'])\n",
    "plt.legend(['accuracy'])\n",
    "plt.ylabel('accuracy')\n",
    "plt.xlabel('epoch')"
   ]
  },
  {
   "cell_type": "code",
   "execution_count": 7,
   "metadata": {},
   "outputs": [
    {
     "data": {
      "text/plain": [
       "[<matplotlib.lines.Line2D at 0x7fe177f99438>]"
      ]
     },
     "execution_count": 7,
     "metadata": {},
     "output_type": "execute_result"
    },
    {
     "data": {
      "text/plain": [
       "<matplotlib.legend.Legend at 0x7fe178008eb8>"
      ]
     },
     "execution_count": 7,
     "metadata": {},
     "output_type": "execute_result"
    },
    {
     "data": {
      "text/plain": [
       "Text(0.5, 1.0, 'loss')"
      ]
     },
     "execution_count": 7,
     "metadata": {},
     "output_type": "execute_result"
    },
    {
     "data": {
      "text/plain": [
       "Text(0.5, 0, 'epoch')"
      ]
     },
     "execution_count": 7,
     "metadata": {},
     "output_type": "execute_result"
    },
    {
     "data": {
      "image/png": "[encoded data removed]",
      "text/plain": [
       "<Figure size 432x288 with 1 Axes>"
      ]
     },
     "metadata": {
      "needs_background": "light"
     },
     "output_type": "display_data"
    }
   ],
   "source": [
    "plt.plot(h.history['loss'])\n",
    "plt.legend(['loss'])\n",
    "plt.title('loss')\n",
    "plt.xlabel('epoch')"
   ]
  },
  {
   "cell_type": "code",
   "execution_count": 8,
   "metadata": {},
   "outputs": [],
   "source": [
    "def plot_decision_boundary(X, y, model):\n",
    "    x_span = np.linspace(min(X[:,0]) - 0.25, max(X[:,0]) + 0.25)\n",
    "    y_span = np.linspace(min(X[:,1]) - 0.25, max(X[:,1]) + 0.25)\n",
    "    xx, yy = np.meshgrid(x_span, y_span)\n",
    "    grid = np.c_[xx.ravel(), yy.ravel()]\n",
    "    pred_func = model.predict(grid)\n",
    "    z = pred_func.reshape(xx.shape)\n",
    "    plt.contourf(xx, yy, z)"
   ]
  },
  {
   "cell_type": "code",
   "execution_count": 9,
   "metadata": {},
   "outputs": [
    {
     "data": {
      "text/plain": [
       "<matplotlib.collections.PathCollection at 0x7fe1780110b8>"
      ]
     },
     "execution_count": 9,
     "metadata": {},
     "output_type": "execute_result"
    },
    {
     "data": {
      "text/plain": [
       "<matplotlib.collections.PathCollection at 0x7fe1780363c8>"
      ]
     },
     "execution_count": 9,
     "metadata": {},
     "output_type": "execute_result"
    },
    {
     "data": {
      "text/plain": [
       "[<matplotlib.lines.Line2D at 0x7fe178074550>]"
      ]
     },
     "execution_count": 9,
     "metadata": {},
     "output_type": "execute_result"
    },
    {
     "name": "stdout",
     "output_type": "stream",
     "text": [
      "Prediction is:  [[0.02531692]]\n"
     ]
    },
    {
     "data": {
      "image/png": "[encoded data removed]",
      "text/plain": [
       "<Figure size 432x288 with 1 Axes>"
      ]
     },
     "metadata": {
      "needs_background": "light"
     },
     "output_type": "display_data"
    }
   ],
   "source": [
    "plot_decision_boundary(X, y, model)\n",
    "\n",
    "plt.scatter(X[y==0, 0], X[y==0, 1])\n",
    "plt.scatter(X[y==1, 0], X[y==1, 1])\n",
    "\n",
    "x = 0\n",
    "y = 0.75\n",
    "\n",
    "point = np.array([[x, y]])\n",
    "predict = model.predict(point)\n",
    "plt.plot([x], [y], marker='o', markersize=10, color=\"red\")\n",
    "print(\"Prediction is: \", predict)"
   ]
  },
  {
   "cell_type": "code",
   "execution_count": null,
   "metadata": {},
   "outputs": [],
   "source": []
  },
  {
   "cell_type": "code",
   "execution_count": null,
   "metadata": {},
   "outputs": [],
   "source": []
  },
  {
   "cell_type": "code",
   "execution_count": null,
   "metadata": {},
   "outputs": [],
   "source": []
  },
  {
   "cell_type": "code",
   "execution_count": null,
   "metadata": {},
   "outputs": [],
   "source": []
  },
  {
   "cell_type": "code",
   "execution_count": null,
   "metadata": {},
   "outputs": [],
   "source": []
  },
  {
   "cell_type": "code",
   "execution_count": null,
   "metadata": {},
   "outputs": [],
   "source": []
  }
 ],
 "metadata": {
  "kernelspec": {
   "display_name": "Python 3",
   "language": "python",
   "name": "python3"
  },
  "language_info": {
   "codemirror_mode": {
    "name": "ipython",
    "version": 3
   },
   "file_extension": ".py",
   "mimetype": "text/x-python",
   "name": "python",
   "nbconvert_exporter": "python",
   "pygments_lexer": "ipython3",
   "version": "3.5.6"
  }
 },
 "nbformat": 4,
 "nbformat_minor": 2
}
