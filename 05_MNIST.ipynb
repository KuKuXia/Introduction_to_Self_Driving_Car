{
 "cells": [
  {
   "cell_type": "code",
   "execution_count": 1,
   "metadata": {},
   "outputs": [
    {
     "name": "stderr",
     "output_type": "stream",
     "text": [
      "Using TensorFlow backend.\n"
     ]
    },
    {
     "name": "stdout",
     "output_type": "stream",
     "text": [
      "Using matplotlib backend: TkAgg\n"
     ]
    }
   ],
   "source": [
    "import numpy as np\n",
    "import matplotlib.pyplot as plt\n",
    "import keras\n",
    "from keras.datasets import mnist\n",
    "from keras.models import Sequential\n",
    "from keras.layers import Dense\n",
    "from keras.optimizers import Adam\n",
    "from keras.utils.np_utils import to_categorical\n",
    "import random\n",
    "%matplotlib"
   ]
  },
  {
   "cell_type": "code",
   "execution_count": 2,
   "metadata": {},
   "outputs": [],
   "source": [
    "np.random.seed(0)"
   ]
  },
  {
   "cell_type": "code",
   "execution_count": 3,
   "metadata": {},
   "outputs": [],
   "source": [
    "(X_train, y_train), (X_test, y_test) = mnist.load_data()"
   ]
  },
  {
   "cell_type": "code",
   "execution_count": 4,
   "metadata": {},
   "outputs": [
    {
     "name": "stdout",
     "output_type": "stream",
     "text": [
      "(60000, 28, 28)\n",
      "(10000, 28, 28)\n",
      "60000\n"
     ]
    }
   ],
   "source": [
    "print(X_train.shape)\n",
    "print(X_test.shape)\n",
    "print(y_train.shape[0])\n",
    "assert(X_train.shape[0] == y_train.shape[0]), \"The number of images is not equal to the number of labels.\"\n",
    "assert(X_test.shape[0] == y_test.shape[0]), \"The number of images is not equal to the number of labels.\"\n",
    "assert(X_train.shape[1:] == (28,28)), \"The dimensions of the images are not 28x28\"\n",
    "assert(X_test.shape[1:] == (28,28)), \"The dimensions of the images are not 28x28\""
   ]
  },
  {
   "cell_type": "code",
   "execution_count": 5,
   "metadata": {},
   "outputs": [
    {
     "data": {
      "text/plain": [
       "<matplotlib.image.AxesImage at 0x7f54d9d51518>"
      ]
     },
     "execution_count": 5,
     "metadata": {},
     "output_type": "execute_result"
    },
    {
     "data": {
      "text/plain": [
       "(-0.5, 27.5, 27.5, -0.5)"
      ]
     },
     "execution_count": 5,
     "metadata": {},
     "output_type": "execute_result"
    },
    {
     "data": {
      "text/plain": [
       "<matplotlib.image.AxesImage at 0x7f54d9d390b8>"
      ]
     },
     "execution_count": 5,
     "metadata": {},
     "output_type": "execute_result"
    },
    {
     "data": {
      "text/plain": [
       "(-0.5, 27.5, 27.5, -0.5)"
      ]
     },
     "execution_count": 5,
     "metadata": {},
     "output_type": "execute_result"
    },
    {
     "data": {
      "text/plain": [
       "<matplotlib.image.AxesImage at 0x7f54d9d39b70>"
      ]
     },
     "execution_count": 5,
     "metadata": {},
     "output_type": "execute_result"
    },
    {
     "data": {
      "text/plain": [
       "(-0.5, 27.5, 27.5, -0.5)"
      ]
     },
     "execution_count": 5,
     "metadata": {},
     "output_type": "execute_result"
    },
    {
     "data": {
      "text/plain": [
       "<matplotlib.image.AxesImage at 0x7f54d9d75630>"
      ]
     },
     "execution_count": 5,
     "metadata": {},
     "output_type": "execute_result"
    },
    {
     "data": {
      "text/plain": [
       "(-0.5, 27.5, 27.5, -0.5)"
      ]
     },
     "execution_count": 5,
     "metadata": {},
     "output_type": "execute_result"
    },
    {
     "data": {
      "text/plain": [
       "<matplotlib.image.AxesImage at 0x7f54d9d7e5f8>"
      ]
     },
     "execution_count": 5,
     "metadata": {},
     "output_type": "execute_result"
    },
    {
     "data": {
      "text/plain": [
       "(-0.5, 27.5, 27.5, -0.5)"
      ]
     },
     "execution_count": 5,
     "metadata": {},
     "output_type": "execute_result"
    },
    {
     "data": {
      "text/plain": [
       "<matplotlib.image.AxesImage at 0x7f54d9d6ee80>"
      ]
     },
     "execution_count": 5,
     "metadata": {},
     "output_type": "execute_result"
    },
    {
     "data": {
      "text/plain": [
       "(-0.5, 27.5, 27.5, -0.5)"
      ]
     },
     "execution_count": 5,
     "metadata": {},
     "output_type": "execute_result"
    },
    {
     "data": {
      "text/plain": [
       "<matplotlib.image.AxesImage at 0x7f54d9d16278>"
      ]
     },
     "execution_count": 5,
     "metadata": {},
     "output_type": "execute_result"
    },
    {
     "data": {
      "text/plain": [
       "(-0.5, 27.5, 27.5, -0.5)"
      ]
     },
     "execution_count": 5,
     "metadata": {},
     "output_type": "execute_result"
    },
    {
     "data": {
      "text/plain": [
       "<matplotlib.image.AxesImage at 0x7f54d9d27a90>"
      ]
     },
     "execution_count": 5,
     "metadata": {},
     "output_type": "execute_result"
    },
    {
     "data": {
      "text/plain": [
       "(-0.5, 27.5, 27.5, -0.5)"
      ]
     },
     "execution_count": 5,
     "metadata": {},
     "output_type": "execute_result"
    },
    {
     "data": {
      "text/plain": [
       "<matplotlib.image.AxesImage at 0x7f54d9d27710>"
      ]
     },
     "execution_count": 5,
     "metadata": {},
     "output_type": "execute_result"
    },
    {
     "data": {
      "text/plain": [
       "(-0.5, 27.5, 27.5, -0.5)"
      ]
     },
     "execution_count": 5,
     "metadata": {},
     "output_type": "execute_result"
    },
    {
     "data": {
      "text/plain": [
       "<matplotlib.image.AxesImage at 0x7f54d9d4b390>"
      ]
     },
     "execution_count": 5,
     "metadata": {},
     "output_type": "execute_result"
    },
    {
     "data": {
      "text/plain": [
       "(-0.5, 27.5, 27.5, -0.5)"
      ]
     },
     "execution_count": 5,
     "metadata": {},
     "output_type": "execute_result"
    },
    {
     "data": {
      "text/plain": [
       "<matplotlib.image.AxesImage at 0x7f54d9d4bba8>"
      ]
     },
     "execution_count": 5,
     "metadata": {},
     "output_type": "execute_result"
    },
    {
     "data": {
      "text/plain": [
       "(-0.5, 27.5, 27.5, -0.5)"
      ]
     },
     "execution_count": 5,
     "metadata": {},
     "output_type": "execute_result"
    },
    {
     "data": {
      "text/plain": [
       "<matplotlib.image.AxesImage at 0x7f54d9d4bf60>"
      ]
     },
     "execution_count": 5,
     "metadata": {},
     "output_type": "execute_result"
    },
    {
     "data": {
      "text/plain": [
       "(-0.5, 27.5, 27.5, -0.5)"
      ]
     },
     "execution_count": 5,
     "metadata": {},
     "output_type": "execute_result"
    },
    {
     "data": {
      "text/plain": [
       "<matplotlib.image.AxesImage at 0x7f54d9cdd198>"
      ]
     },
     "execution_count": 5,
     "metadata": {},
     "output_type": "execute_result"
    },
    {
     "data": {
      "text/plain": [
       "(-0.5, 27.5, 27.5, -0.5)"
      ]
     },
     "execution_count": 5,
     "metadata": {},
     "output_type": "execute_result"
    },
    {
     "data": {
      "text/plain": [
       "<matplotlib.image.AxesImage at 0x7f54d9cdde48>"
      ]
     },
     "execution_count": 5,
     "metadata": {},
     "output_type": "execute_result"
    },
    {
     "data": {
      "text/plain": [
       "(-0.5, 27.5, 27.5, -0.5)"
      ]
     },
     "execution_count": 5,
     "metadata": {},
     "output_type": "execute_result"
    },
    {
     "data": {
      "text/plain": [
       "<matplotlib.image.AxesImage at 0x7f54d9cddf28>"
      ]
     },
     "execution_count": 5,
     "metadata": {},
     "output_type": "execute_result"
    },
    {
     "data": {
      "text/plain": [
       "(-0.5, 27.5, 27.5, -0.5)"
      ]
     },
     "execution_count": 5,
     "metadata": {},
     "output_type": "execute_result"
    },
    {
     "data": {
      "text/plain": [
       "<matplotlib.image.AxesImage at 0x7f54d9cdd128>"
      ]
     },
     "execution_count": 5,
     "metadata": {},
     "output_type": "execute_result"
    },
    {
     "data": {
      "text/plain": [
       "(-0.5, 27.5, 27.5, -0.5)"
      ]
     },
     "execution_count": 5,
     "metadata": {},
     "output_type": "execute_result"
    },
    {
     "data": {
      "text/plain": [
       "<matplotlib.image.AxesImage at 0x7f54d9cddda0>"
      ]
     },
     "execution_count": 5,
     "metadata": {},
     "output_type": "execute_result"
    },
    {
     "data": {
      "text/plain": [
       "(-0.5, 27.5, 27.5, -0.5)"
      ]
     },
     "execution_count": 5,
     "metadata": {},
     "output_type": "execute_result"
    },
    {
     "data": {
      "text/plain": [
       "<matplotlib.image.AxesImage at 0x7f54d9cdd320>"
      ]
     },
     "execution_count": 5,
     "metadata": {},
     "output_type": "execute_result"
    },
    {
     "data": {
      "text/plain": [
       "(-0.5, 27.5, 27.5, -0.5)"
      ]
     },
     "execution_count": 5,
     "metadata": {},
     "output_type": "execute_result"
    },
    {
     "data": {
      "text/plain": [
       "<matplotlib.image.AxesImage at 0x7f54d9ce8978>"
      ]
     },
     "execution_count": 5,
     "metadata": {},
     "output_type": "execute_result"
    },
    {
     "data": {
      "text/plain": [
       "(-0.5, 27.5, 27.5, -0.5)"
      ]
     },
     "execution_count": 5,
     "metadata": {},
     "output_type": "execute_result"
    },
    {
     "data": {
      "text/plain": [
       "<matplotlib.image.AxesImage at 0x7f54d9ce8550>"
      ]
     },
     "execution_count": 5,
     "metadata": {},
     "output_type": "execute_result"
    },
    {
     "data": {
      "text/plain": [
       "(-0.5, 27.5, 27.5, -0.5)"
      ]
     },
     "execution_count": 5,
     "metadata": {},
     "output_type": "execute_result"
    },
    {
     "data": {
      "text/plain": [
       "<matplotlib.image.AxesImage at 0x7f54d9ce8198>"
      ]
     },
     "execution_count": 5,
     "metadata": {},
     "output_type": "execute_result"
    },
    {
     "data": {
      "text/plain": [
       "(-0.5, 27.5, 27.5, -0.5)"
      ]
     },
     "execution_count": 5,
     "metadata": {},
     "output_type": "execute_result"
    },
    {
     "data": {
      "text/plain": [
       "Text(0.5, 1.0, '0')"
      ]
     },
     "execution_count": 5,
     "metadata": {},
     "output_type": "execute_result"
    },
    {
     "data": {
      "text/plain": [
       "<matplotlib.image.AxesImage at 0x7f54da27ed30>"
      ]
     },
     "execution_count": 5,
     "metadata": {},
     "output_type": "execute_result"
    },
    {
     "data": {
      "text/plain": [
       "(-0.5, 27.5, 27.5, -0.5)"
      ]
     },
     "execution_count": 5,
     "metadata": {},
     "output_type": "execute_result"
    },
    {
     "data": {
      "text/plain": [
       "Text(0.5, 1.0, '1')"
      ]
     },
     "execution_count": 5,
     "metadata": {},
     "output_type": "execute_result"
    },
    {
     "data": {
      "text/plain": [
       "<matplotlib.image.AxesImage at 0x7f54da1fe8d0>"
      ]
     },
     "execution_count": 5,
     "metadata": {},
     "output_type": "execute_result"
    },
    {
     "data": {
      "text/plain": [
       "(-0.5, 27.5, 27.5, -0.5)"
      ]
     },
     "execution_count": 5,
     "metadata": {},
     "output_type": "execute_result"
    },
    {
     "data": {
      "text/plain": [
       "Text(0.5, 1.0, '2')"
      ]
     },
     "execution_count": 5,
     "metadata": {},
     "output_type": "execute_result"
    },
    {
     "data": {
      "text/plain": [
       "<matplotlib.image.AxesImage at 0x7f54da1804a8>"
      ]
     },
     "execution_count": 5,
     "metadata": {},
     "output_type": "execute_result"
    },
    {
     "data": {
      "text/plain": [
       "(-0.5, 27.5, 27.5, -0.5)"
      ]
     },
     "execution_count": 5,
     "metadata": {},
     "output_type": "execute_result"
    },
    {
     "data": {
      "text/plain": [
       "Text(0.5, 1.0, '3')"
      ]
     },
     "execution_count": 5,
     "metadata": {},
     "output_type": "execute_result"
    },
    {
     "data": {
      "text/plain": [
       "<matplotlib.image.AxesImage at 0x7f54da104080>"
      ]
     },
     "execution_count": 5,
     "metadata": {},
     "output_type": "execute_result"
    },
    {
     "data": {
      "text/plain": [
       "(-0.5, 27.5, 27.5, -0.5)"
      ]
     },
     "execution_count": 5,
     "metadata": {},
     "output_type": "execute_result"
    },
    {
     "data": {
      "text/plain": [
       "Text(0.5, 1.0, '4')"
      ]
     },
     "execution_count": 5,
     "metadata": {},
     "output_type": "execute_result"
    },
    {
     "data": {
      "text/plain": [
       "<matplotlib.image.AxesImage at 0x7f54da07fc18>"
      ]
     },
     "execution_count": 5,
     "metadata": {},
     "output_type": "execute_result"
    },
    {
     "data": {
      "text/plain": [
       "(-0.5, 27.5, 27.5, -0.5)"
      ]
     },
     "execution_count": 5,
     "metadata": {},
     "output_type": "execute_result"
    },
    {
     "data": {
      "text/plain": [
       "Text(0.5, 1.0, '5')"
      ]
     },
     "execution_count": 5,
     "metadata": {},
     "output_type": "execute_result"
    },
    {
     "data": {
      "text/plain": [
       "<matplotlib.image.AxesImage at 0x7f54da0027b8>"
      ]
     },
     "execution_count": 5,
     "metadata": {},
     "output_type": "execute_result"
    },
    {
     "data": {
      "text/plain": [
       "(-0.5, 27.5, 27.5, -0.5)"
      ]
     },
     "execution_count": 5,
     "metadata": {},
     "output_type": "execute_result"
    },
    {
     "data": {
      "text/plain": [
       "Text(0.5, 1.0, '6')"
      ]
     },
     "execution_count": 5,
     "metadata": {},
     "output_type": "execute_result"
    },
    {
     "data": {
      "text/plain": [
       "<matplotlib.image.AxesImage at 0x7f54d9f85390>"
      ]
     },
     "execution_count": 5,
     "metadata": {},
     "output_type": "execute_result"
    },
    {
     "data": {
      "text/plain": [
       "(-0.5, 27.5, 27.5, -0.5)"
      ]
     },
     "execution_count": 5,
     "metadata": {},
     "output_type": "execute_result"
    },
    {
     "data": {
      "text/plain": [
       "Text(0.5, 1.0, '7')"
      ]
     },
     "execution_count": 5,
     "metadata": {},
     "output_type": "execute_result"
    },
    {
     "data": {
      "text/plain": [
       "<matplotlib.image.AxesImage at 0x7f54d9f03f28>"
      ]
     },
     "execution_count": 5,
     "metadata": {},
     "output_type": "execute_result"
    },
    {
     "data": {
      "text/plain": [
       "(-0.5, 27.5, 27.5, -0.5)"
      ]
     },
     "execution_count": 5,
     "metadata": {},
     "output_type": "execute_result"
    },
    {
     "data": {
      "text/plain": [
       "Text(0.5, 1.0, '8')"
      ]
     },
     "execution_count": 5,
     "metadata": {},
     "output_type": "execute_result"
    },
    {
     "data": {
      "text/plain": [
       "<matplotlib.image.AxesImage at 0x7f54d9e86b00>"
      ]
     },
     "execution_count": 5,
     "metadata": {},
     "output_type": "execute_result"
    },
    {
     "data": {
      "text/plain": [
       "(-0.5, 27.5, 27.5, -0.5)"
      ]
     },
     "execution_count": 5,
     "metadata": {},
     "output_type": "execute_result"
    },
    {
     "data": {
      "text/plain": [
       "Text(0.5, 1.0, '9')"
      ]
     },
     "execution_count": 5,
     "metadata": {},
     "output_type": "execute_result"
    },
    {
     "data": {
      "text/plain": [
       "<matplotlib.image.AxesImage at 0x7f54d9e066d8>"
      ]
     },
     "execution_count": 5,
     "metadata": {},
     "output_type": "execute_result"
    },
    {
     "data": {
      "text/plain": [
       "(-0.5, 27.5, 27.5, -0.5)"
      ]
     },
     "execution_count": 5,
     "metadata": {},
     "output_type": "execute_result"
    },
    {
     "data": {
      "text/plain": [
       "<matplotlib.image.AxesImage at 0x7f54d9d03240>"
      ]
     },
     "execution_count": 5,
     "metadata": {},
     "output_type": "execute_result"
    },
    {
     "data": {
      "text/plain": [
       "(-0.5, 27.5, 27.5, -0.5)"
      ]
     },
     "execution_count": 5,
     "metadata": {},
     "output_type": "execute_result"
    },
    {
     "data": {
      "text/plain": [
       "<matplotlib.image.AxesImage at 0x7f54d9d03588>"
      ]
     },
     "execution_count": 5,
     "metadata": {},
     "output_type": "execute_result"
    },
    {
     "data": {
      "text/plain": [
       "(-0.5, 27.5, 27.5, -0.5)"
      ]
     },
     "execution_count": 5,
     "metadata": {},
     "output_type": "execute_result"
    },
    {
     "data": {
      "text/plain": [
       "<matplotlib.image.AxesImage at 0x7f54d9d03780>"
      ]
     },
     "execution_count": 5,
     "metadata": {},
     "output_type": "execute_result"
    },
    {
     "data": {
      "text/plain": [
       "(-0.5, 27.5, 27.5, -0.5)"
      ]
     },
     "execution_count": 5,
     "metadata": {},
     "output_type": "execute_result"
    },
    {
     "data": {
      "text/plain": [
       "<matplotlib.image.AxesImage at 0x7f54d9d03978>"
      ]
     },
     "execution_count": 5,
     "metadata": {},
     "output_type": "execute_result"
    },
    {
     "data": {
      "text/plain": [
       "(-0.5, 27.5, 27.5, -0.5)"
      ]
     },
     "execution_count": 5,
     "metadata": {},
     "output_type": "execute_result"
    },
    {
     "data": {
      "text/plain": [
       "<matplotlib.image.AxesImage at 0x7f54d9d03b70>"
      ]
     },
     "execution_count": 5,
     "metadata": {},
     "output_type": "execute_result"
    },
    {
     "data": {
      "text/plain": [
       "(-0.5, 27.5, 27.5, -0.5)"
      ]
     },
     "execution_count": 5,
     "metadata": {},
     "output_type": "execute_result"
    },
    {
     "data": {
      "text/plain": [
       "<matplotlib.image.AxesImage at 0x7f54d9d03d68>"
      ]
     },
     "execution_count": 5,
     "metadata": {},
     "output_type": "execute_result"
    },
    {
     "data": {
      "text/plain": [
       "(-0.5, 27.5, 27.5, -0.5)"
      ]
     },
     "execution_count": 5,
     "metadata": {},
     "output_type": "execute_result"
    },
    {
     "data": {
      "text/plain": [
       "<matplotlib.image.AxesImage at 0x7f54d9d03c88>"
      ]
     },
     "execution_count": 5,
     "metadata": {},
     "output_type": "execute_result"
    },
    {
     "data": {
      "text/plain": [
       "(-0.5, 27.5, 27.5, -0.5)"
      ]
     },
     "execution_count": 5,
     "metadata": {},
     "output_type": "execute_result"
    },
    {
     "data": {
      "text/plain": [
       "<matplotlib.image.AxesImage at 0x7f54d9d09080>"
      ]
     },
     "execution_count": 5,
     "metadata": {},
     "output_type": "execute_result"
    },
    {
     "data": {
      "text/plain": [
       "(-0.5, 27.5, 27.5, -0.5)"
      ]
     },
     "execution_count": 5,
     "metadata": {},
     "output_type": "execute_result"
    },
    {
     "data": {
      "text/plain": [
       "<matplotlib.image.AxesImage at 0x7f54d9d09390>"
      ]
     },
     "execution_count": 5,
     "metadata": {},
     "output_type": "execute_result"
    },
    {
     "data": {
      "text/plain": [
       "(-0.5, 27.5, 27.5, -0.5)"
      ]
     },
     "execution_count": 5,
     "metadata": {},
     "output_type": "execute_result"
    },
    {
     "data": {
      "text/plain": [
       "<matplotlib.image.AxesImage at 0x7f54d9d09588>"
      ]
     },
     "execution_count": 5,
     "metadata": {},
     "output_type": "execute_result"
    },
    {
     "data": {
      "text/plain": [
       "(-0.5, 27.5, 27.5, -0.5)"
      ]
     },
     "execution_count": 5,
     "metadata": {},
     "output_type": "execute_result"
    },
    {
     "data": {
      "text/plain": [
       "<matplotlib.image.AxesImage at 0x7f54d9d09780>"
      ]
     },
     "execution_count": 5,
     "metadata": {},
     "output_type": "execute_result"
    },
    {
     "data": {
      "text/plain": [
       "(-0.5, 27.5, 27.5, -0.5)"
      ]
     },
     "execution_count": 5,
     "metadata": {},
     "output_type": "execute_result"
    },
    {
     "data": {
      "text/plain": [
       "<matplotlib.image.AxesImage at 0x7f54d9d09978>"
      ]
     },
     "execution_count": 5,
     "metadata": {},
     "output_type": "execute_result"
    },
    {
     "data": {
      "text/plain": [
       "(-0.5, 27.5, 27.5, -0.5)"
      ]
     },
     "execution_count": 5,
     "metadata": {},
     "output_type": "execute_result"
    },
    {
     "data": {
      "text/plain": [
       "<matplotlib.image.AxesImage at 0x7f54d9d09b70>"
      ]
     },
     "execution_count": 5,
     "metadata": {},
     "output_type": "execute_result"
    },
    {
     "data": {
      "text/plain": [
       "(-0.5, 27.5, 27.5, -0.5)"
      ]
     },
     "execution_count": 5,
     "metadata": {},
     "output_type": "execute_result"
    },
    {
     "data": {
      "text/plain": [
       "<matplotlib.image.AxesImage at 0x7f54d9d09d68>"
      ]
     },
     "execution_count": 5,
     "metadata": {},
     "output_type": "execute_result"
    },
    {
     "data": {
      "text/plain": [
       "(-0.5, 27.5, 27.5, -0.5)"
      ]
     },
     "execution_count": 5,
     "metadata": {},
     "output_type": "execute_result"
    },
    {
     "data": {
      "text/plain": [
       "<matplotlib.image.AxesImage at 0x7f54d9d09c88>"
      ]
     },
     "execution_count": 5,
     "metadata": {},
     "output_type": "execute_result"
    },
    {
     "data": {
      "text/plain": [
       "(-0.5, 27.5, 27.5, -0.5)"
      ]
     },
     "execution_count": 5,
     "metadata": {},
     "output_type": "execute_result"
    },
    {
     "data": {
      "text/plain": [
       "<matplotlib.image.AxesImage at 0x7f54d9d0b080>"
      ]
     },
     "execution_count": 5,
     "metadata": {},
     "output_type": "execute_result"
    },
    {
     "data": {
      "text/plain": [
       "(-0.5, 27.5, 27.5, -0.5)"
      ]
     },
     "execution_count": 5,
     "metadata": {},
     "output_type": "execute_result"
    },
    {
     "data": {
      "text/plain": [
       "<matplotlib.image.AxesImage at 0x7f54d9d0b390>"
      ]
     },
     "execution_count": 5,
     "metadata": {},
     "output_type": "execute_result"
    },
    {
     "data": {
      "text/plain": [
       "(-0.5, 27.5, 27.5, -0.5)"
      ]
     },
     "execution_count": 5,
     "metadata": {},
     "output_type": "execute_result"
    },
    {
     "data": {
      "text/plain": [
       "<matplotlib.image.AxesImage at 0x7f54d9d0b588>"
      ]
     },
     "execution_count": 5,
     "metadata": {},
     "output_type": "execute_result"
    },
    {
     "data": {
      "text/plain": [
       "(-0.5, 27.5, 27.5, -0.5)"
      ]
     },
     "execution_count": 5,
     "metadata": {},
     "output_type": "execute_result"
    },
    {
     "data": {
      "text/plain": [
       "<matplotlib.image.AxesImage at 0x7f54d9d0b780>"
      ]
     },
     "execution_count": 5,
     "metadata": {},
     "output_type": "execute_result"
    },
    {
     "data": {
      "text/plain": [
       "(-0.5, 27.5, 27.5, -0.5)"
      ]
     },
     "execution_count": 5,
     "metadata": {},
     "output_type": "execute_result"
    },
    {
     "data": {
      "image/png": "[encoded data removed]",
      "text/plain": [
       "<Figure size 360x576 with 50 Axes>"
      ]
     },
     "metadata": {
      "needs_background": "light"
     },
     "output_type": "display_data"
    }
   ],
   "source": [
    "num_of_samples = []\n",
    "\n",
    "cols = 5\n",
    "num_classes = 10\n",
    "\n",
    "fig, axs = plt.subplots(nrows=num_classes, ncols = cols, figsize=(5, 8))\n",
    "fig.tight_layout()\n",
    "\n",
    "for i in range(cols):\n",
    "    for j in range(num_classes):\n",
    "        x_selected = X_train[y_train == j]\n",
    "        axs[j][i].imshow(x_selected[random.randint(0, len(x_selected - 1)), :, :], cmap=plt.get_cmap(\"gray\"))\n",
    "        axs[j][i].axis(\"off\")\n",
    "        if i == 2:\n",
    "            axs[j][i].set_title(str(j))\n",
    "            num_of_samples.append(len(x_selected))"
   ]
  },
  {
   "cell_type": "code",
   "execution_count": 6,
   "metadata": {},
   "outputs": [
    {
     "name": "stdout",
     "output_type": "stream",
     "text": [
      "[5923, 6742, 5958, 6131, 5842, 5421, 5918, 6265, 5851, 5949]\n"
     ]
    },
    {
     "data": {
      "text/plain": [
       "<Figure size 864x288 with 0 Axes>"
      ]
     },
     "execution_count": 6,
     "metadata": {},
     "output_type": "execute_result"
    },
    {
     "data": {
      "text/plain": [
       "<BarContainer object of 10 artists>"
      ]
     },
     "execution_count": 6,
     "metadata": {},
     "output_type": "execute_result"
    },
    {
     "data": {
      "text/plain": [
       "Text(0.5, 1.0, 'Distribution of the training dataset')"
      ]
     },
     "execution_count": 6,
     "metadata": {},
     "output_type": "execute_result"
    },
    {
     "data": {
      "text/plain": [
       "Text(0.5, 0, 'Class number')"
      ]
     },
     "execution_count": 6,
     "metadata": {},
     "output_type": "execute_result"
    },
    {
     "data": {
      "text/plain": [
       "Text(0, 0.5, 'Number of images')"
      ]
     },
     "execution_count": 6,
     "metadata": {},
     "output_type": "execute_result"
    },
    {
     "data": {
      "image/png": "[encoded data removed]",
      "text/plain": [
       "<Figure size 864x288 with 1 Axes>"
      ]
     },
     "metadata": {
      "needs_background": "light"
     },
     "output_type": "display_data"
    }
   ],
   "source": [
    "print(num_of_samples)\n",
    "plt.figure(figsize=(12, 4))\n",
    "plt.bar(range(0, num_classes), num_of_samples)\n",
    "plt.title(\"Distribution of the training dataset\")\n",
    "plt.xlabel(\"Class number\")\n",
    "plt.ylabel(\"Number of images\")"
   ]
  },
  {
   "cell_type": "code",
   "execution_count": 7,
   "metadata": {},
   "outputs": [],
   "source": [
    "y_train = to_categorical(y_train, 10)\n",
    "y_test = to_categorical(y_test, 10)\n",
    "\n",
    "X_train = X_train/255 \n",
    "X_test = X_test/255\n",
    "\n",
    "num_pixels = 784\n",
    "X_train = X_train.reshape(X_train.shape[0], num_pixels)\n",
    "X_test = X_test.reshape(X_test.shape[0], num_pixels)"
   ]
  },
  {
   "cell_type": "code",
   "execution_count": 8,
   "metadata": {},
   "outputs": [],
   "source": [
    "def create_model():\n",
    "    model = Sequential()\n",
    "    model.add(Dense(10, input_dim=num_pixels, activation='relu'))\n",
    "    model.add(Dense(20, activation='relu'))\n",
    "    model.add(Dense(num_classes, activation='softmax'))\n",
    "    model.compile(Adam(lr=0.02), loss='categorical_crossentropy', metrics=['accuracy'])\n",
    "    return model"
   ]
  },
  {
   "cell_type": "code",
   "execution_count": 9,
   "metadata": {},
   "outputs": [
    {
     "name": "stdout",
     "output_type": "stream",
     "text": [
      "_________________________________________________________________\n",
      "Layer (type)                 Output Shape              Param #   \n",
      "=================================================================\n",
      "dense_1 (Dense)              (None, 10)                7850      \n",
      "_________________________________________________________________\n",
      "dense_2 (Dense)              (None, 20)                220       \n",
      "_________________________________________________________________\n",
      "dense_3 (Dense)              (None, 10)                210       \n",
      "=================================================================\n",
      "Total params: 8,280\n",
      "Trainable params: 8,280\n",
      "Non-trainable params: 0\n",
      "_________________________________________________________________\n",
      "None\n",
      "Train on 48000 samples, validate on 12000 samples\n",
      "Epoch 1/100\n",
      "48000/48000 [==============================] - 1s - loss: 0.5949 - acc: 0.8149 - val_loss: 0.4209 - val_acc: 0.8717\n",
      "Epoch 2/100\n",
      "48000/48000 [==============================] - 0s - loss: 0.3964 - acc: 0.8832 - val_loss: 0.3550 - val_acc: 0.8941\n",
      "Epoch 3/100\n",
      "48000/48000 [==============================] - 0s - loss: 0.3673 - acc: 0.8900 - val_loss: 0.3336 - val_acc: 0.9012\n",
      "Epoch 4/100\n",
      "48000/48000 [==============================] - 0s - loss: 0.3478 - acc: 0.8951 - val_loss: 0.3472 - val_acc: 0.8932\n",
      "Epoch 5/100\n",
      "48000/48000 [==============================] - 0s - loss: 0.3396 - acc: 0.8977 - val_loss: 0.3643 - val_acc: 0.8880\n",
      "Epoch 6/100\n",
      "48000/48000 [==============================] - 0s - loss: 0.3285 - acc: 0.9013 - val_loss: 0.3157 - val_acc: 0.9047\n",
      "Epoch 7/100\n",
      "48000/48000 [==============================] - 0s - loss: 0.3318 - acc: 0.9013 - val_loss: 0.3270 - val_acc: 0.9001\n",
      "Epoch 8/100\n",
      "48000/48000 [==============================] - 0s - loss: 0.3215 - acc: 0.9039 - val_loss: 0.3297 - val_acc: 0.9003\n",
      "Epoch 9/100\n",
      "48000/48000 [==============================] - 0s - loss: 0.3226 - acc: 0.9031 - val_loss: 0.3144 - val_acc: 0.9051\n",
      "Epoch 10/100\n",
      "48000/48000 [==============================] - 0s - loss: 0.3208 - acc: 0.9035 - val_loss: 0.3180 - val_acc: 0.9056\n",
      "Epoch 11/100\n",
      "48000/48000 [==============================] - 0s - loss: 0.3117 - acc: 0.9072 - val_loss: 0.3180 - val_acc: 0.9052\n",
      "Epoch 12/100\n",
      "48000/48000 [==============================] - 0s - loss: 0.3168 - acc: 0.9050 - val_loss: 0.3311 - val_acc: 0.9053\n",
      "Epoch 13/100\n",
      "48000/48000 [==============================] - 0s - loss: 0.3128 - acc: 0.9064 - val_loss: 0.3368 - val_acc: 0.9001\n",
      "Epoch 14/100\n",
      "48000/48000 [==============================] - 0s - loss: 0.3090 - acc: 0.9067 - val_loss: 0.3286 - val_acc: 0.9038\n",
      "Epoch 15/100\n",
      "48000/48000 [==============================] - 0s - loss: 0.3120 - acc: 0.9065 - val_loss: 0.3256 - val_acc: 0.9024\n",
      "Epoch 16/100\n",
      "48000/48000 [==============================] - 0s - loss: 0.3078 - acc: 0.9073 - val_loss: 0.3416 - val_acc: 0.8982\n",
      "Epoch 17/100\n",
      "48000/48000 [==============================] - 0s - loss: 0.3068 - acc: 0.9079 - val_loss: 0.3287 - val_acc: 0.9038\n",
      "Epoch 18/100\n",
      "48000/48000 [==============================] - 0s - loss: 0.3042 - acc: 0.9089 - val_loss: 0.3374 - val_acc: 0.9019\n",
      "Epoch 19/100\n",
      "48000/48000 [==============================] - 0s - loss: 0.3083 - acc: 0.9078 - val_loss: 0.3247 - val_acc: 0.9065\n",
      "Epoch 20/100\n",
      "48000/48000 [==============================] - 0s - loss: 0.3022 - acc: 0.9091 - val_loss: 0.3234 - val_acc: 0.9068\n",
      "Epoch 21/100\n",
      "48000/48000 [==============================] - 0s - loss: 0.3051 - acc: 0.9088 - val_loss: 0.3244 - val_acc: 0.9043\n",
      "Epoch 22/100\n",
      "48000/48000 [==============================] - 0s - loss: 0.3048 - acc: 0.9094 - val_loss: 0.3390 - val_acc: 0.9002\n",
      "Epoch 23/100\n",
      "48000/48000 [==============================] - 0s - loss: 0.3060 - acc: 0.9090 - val_loss: 0.3408 - val_acc: 0.8965\n",
      "Epoch 24/100\n",
      "48000/48000 [==============================] - 0s - loss: 0.3059 - acc: 0.9081 - val_loss: 0.3410 - val_acc: 0.8968\n",
      "Epoch 25/100\n",
      "48000/48000 [==============================] - 0s - loss: 0.2968 - acc: 0.9100 - val_loss: 0.3411 - val_acc: 0.9008\n",
      "Epoch 26/100\n",
      "48000/48000 [==============================] - 0s - loss: 0.2986 - acc: 0.9114 - val_loss: 0.3295 - val_acc: 0.8998\n",
      "Epoch 27/100\n",
      "48000/48000 [==============================] - 0s - loss: 0.3024 - acc: 0.9092 - val_loss: 0.3231 - val_acc: 0.9040\n",
      "Epoch 28/100\n",
      "48000/48000 [==============================] - 0s - loss: 0.3036 - acc: 0.9086 - val_loss: 0.3309 - val_acc: 0.9046\n",
      "Epoch 29/100\n",
      "48000/48000 [==============================] - 0s - loss: 0.2978 - acc: 0.9109 - val_loss: 0.3230 - val_acc: 0.9057\n",
      "Epoch 30/100\n",
      "48000/48000 [==============================] - 0s - loss: 0.3047 - acc: 0.9083 - val_loss: 0.3219 - val_acc: 0.9058\n",
      "Epoch 31/100\n",
      "48000/48000 [==============================] - 0s - loss: 0.3025 - acc: 0.9094 - val_loss: 0.3257 - val_acc: 0.9026\n",
      "Epoch 32/100\n",
      "48000/48000 [==============================] - 0s - loss: 0.3040 - acc: 0.9094 - val_loss: 0.3322 - val_acc: 0.9034\n",
      "Epoch 33/100\n",
      "48000/48000 [==============================] - 0s - loss: 0.2996 - acc: 0.9116 - val_loss: 0.3456 - val_acc: 0.9008\n",
      "Epoch 34/100\n",
      "48000/48000 [==============================] - 0s - loss: 0.3004 - acc: 0.9099 - val_loss: 0.3466 - val_acc: 0.8962\n",
      "Epoch 35/100\n",
      "48000/48000 [==============================] - 0s - loss: 0.3010 - acc: 0.9110 - val_loss: 0.3492 - val_acc: 0.9003\n",
      "Epoch 36/100\n",
      "48000/48000 [==============================] - 0s - loss: 0.3030 - acc: 0.9087 - val_loss: 0.3582 - val_acc: 0.8955\n",
      "Epoch 37/100\n",
      "48000/48000 [==============================] - 0s - loss: 0.3098 - acc: 0.9067 - val_loss: 0.3783 - val_acc: 0.8904\n",
      "Epoch 38/100\n",
      "48000/48000 [==============================] - 0s - loss: 0.2983 - acc: 0.9110 - val_loss: 0.3249 - val_acc: 0.9060\n",
      "Epoch 39/100\n",
      "48000/48000 [==============================] - 0s - loss: 0.3005 - acc: 0.9090 - val_loss: 0.3366 - val_acc: 0.9041\n",
      "Epoch 40/100\n",
      "48000/48000 [==============================] - 0s - loss: 0.2961 - acc: 0.9118 - val_loss: 0.3193 - val_acc: 0.9058\n",
      "Epoch 41/100\n",
      "48000/48000 [==============================] - 0s - loss: 0.2986 - acc: 0.9109 - val_loss: 0.3575 - val_acc: 0.8973\n",
      "Epoch 42/100\n",
      "48000/48000 [==============================] - 0s - loss: 0.3003 - acc: 0.9100 - val_loss: 0.3243 - val_acc: 0.9084\n",
      "Epoch 43/100\n",
      "48000/48000 [==============================] - 0s - loss: 0.2972 - acc: 0.9114 - val_loss: 0.3216 - val_acc: 0.9073\n",
      "Epoch 44/100\n",
      "48000/48000 [==============================] - 0s - loss: 0.2994 - acc: 0.9105 - val_loss: 0.3322 - val_acc: 0.9048\n",
      "Epoch 45/100\n",
      "48000/48000 [==============================] - 0s - loss: 0.2917 - acc: 0.9113 - val_loss: 0.3336 - val_acc: 0.9035\n",
      "Epoch 46/100\n",
      "48000/48000 [==============================] - 0s - loss: 0.2952 - acc: 0.9106 - val_loss: 0.3435 - val_acc: 0.8994\n",
      "Epoch 47/100\n",
      "48000/48000 [==============================] - 0s - loss: 0.2929 - acc: 0.9122 - val_loss: 0.3675 - val_acc: 0.8917\n",
      "Epoch 48/100\n",
      "48000/48000 [==============================] - 0s - loss: 0.2977 - acc: 0.9111 - val_loss: 0.3622 - val_acc: 0.8978\n",
      "Epoch 49/100\n",
      "48000/48000 [==============================] - 0s - loss: 0.3000 - acc: 0.9108 - val_loss: 0.3463 - val_acc: 0.9012\n",
      "Epoch 50/100\n",
      "48000/48000 [==============================] - 0s - loss: 0.2894 - acc: 0.9135 - val_loss: 0.3421 - val_acc: 0.9010\n",
      "Epoch 51/100\n",
      "48000/48000 [==============================] - 0s - loss: 0.2970 - acc: 0.9132 - val_loss: 0.3234 - val_acc: 0.9067\n",
      "Epoch 52/100\n",
      "48000/48000 [==============================] - 0s - loss: 0.2950 - acc: 0.9119 - val_loss: 0.3344 - val_acc: 0.9028\n",
      "Epoch 53/100\n",
      "48000/48000 [==============================] - 0s - loss: 0.2980 - acc: 0.9107 - val_loss: 0.3365 - val_acc: 0.9022\n",
      "Epoch 54/100\n",
      "48000/48000 [==============================] - 0s - loss: 0.2957 - acc: 0.9113 - val_loss: 0.3454 - val_acc: 0.8983\n",
      "Epoch 55/100\n",
      "48000/48000 [==============================] - 0s - loss: 0.2941 - acc: 0.9122 - val_loss: 0.3383 - val_acc: 0.9045\n",
      "Epoch 56/100\n",
      "48000/48000 [==============================] - 0s - loss: 0.2974 - acc: 0.9123 - val_loss: 0.3339 - val_acc: 0.9040\n",
      "Epoch 57/100\n",
      "48000/48000 [==============================] - 0s - loss: 0.2976 - acc: 0.9108 - val_loss: 0.3261 - val_acc: 0.9052\n",
      "Epoch 58/100\n",
      "48000/48000 [==============================] - 0s - loss: 0.2960 - acc: 0.9120 - val_loss: 0.3596 - val_acc: 0.8918\n",
      "Epoch 59/100\n",
      "48000/48000 [==============================] - 0s - loss: 0.2921 - acc: 0.9125 - val_loss: 0.3610 - val_acc: 0.9000\n",
      "Epoch 60/100\n",
      "48000/48000 [==============================] - 0s - loss: 0.2952 - acc: 0.9119 - val_loss: 0.3350 - val_acc: 0.9072\n",
      "Epoch 61/100\n",
      "48000/48000 [==============================] - 0s - loss: 0.2887 - acc: 0.9134 - val_loss: 0.3377 - val_acc: 0.9039\n",
      "Epoch 62/100\n",
      "48000/48000 [==============================] - 0s - loss: 0.2902 - acc: 0.9127 - val_loss: 0.3304 - val_acc: 0.9033\n",
      "Epoch 63/100\n",
      "48000/48000 [==============================] - 0s - loss: 0.2938 - acc: 0.9129 - val_loss: 0.3340 - val_acc: 0.9041\n",
      "Epoch 64/100\n",
      "48000/48000 [==============================] - 0s - loss: 0.2966 - acc: 0.9119 - val_loss: 0.3574 - val_acc: 0.8974\n",
      "Epoch 65/100\n",
      "48000/48000 [==============================] - 0s - loss: 0.2936 - acc: 0.9133 - val_loss: 0.3564 - val_acc: 0.8958\n",
      "Epoch 66/100\n",
      "48000/48000 [==============================] - 0s - loss: 0.2971 - acc: 0.9124 - val_loss: 0.3266 - val_acc: 0.9047\n",
      "Epoch 67/100\n",
      "48000/48000 [==============================] - 0s - loss: 0.2886 - acc: 0.9135 - val_loss: 0.3393 - val_acc: 0.9043\n",
      "Epoch 68/100\n",
      "48000/48000 [==============================] - 0s - loss: 0.2954 - acc: 0.9126 - val_loss: 0.3422 - val_acc: 0.9045\n",
      "Epoch 69/100\n",
      "48000/48000 [==============================] - 0s - loss: 0.2898 - acc: 0.9133 - val_loss: 0.3434 - val_acc: 0.9022\n",
      "Epoch 70/100\n",
      "48000/48000 [==============================] - 0s - loss: 0.2940 - acc: 0.9125 - val_loss: 0.3267 - val_acc: 0.9068\n",
      "Epoch 71/100\n",
      "48000/48000 [==============================] - 0s - loss: 0.2875 - acc: 0.9136 - val_loss: 0.3523 - val_acc: 0.9021\n",
      "Epoch 72/100\n",
      "48000/48000 [==============================] - 0s - loss: 0.2941 - acc: 0.9107 - val_loss: 0.3188 - val_acc: 0.9092\n",
      "Epoch 73/100\n",
      "48000/48000 [==============================] - 0s - loss: 0.2887 - acc: 0.9129 - val_loss: 0.3793 - val_acc: 0.8938\n",
      "Epoch 74/100\n",
      "48000/48000 [==============================] - 0s - loss: 0.2893 - acc: 0.9139 - val_loss: 0.3305 - val_acc: 0.9066\n",
      "Epoch 75/100\n",
      "48000/48000 [==============================] - 0s - loss: 0.2915 - acc: 0.9129 - val_loss: 0.3493 - val_acc: 0.8982\n",
      "Epoch 76/100\n",
      "48000/48000 [==============================] - 0s - loss: 0.2887 - acc: 0.9138 - val_loss: 0.3331 - val_acc: 0.9066\n",
      "Epoch 77/100\n",
      "48000/48000 [==============================] - 0s - loss: 0.2909 - acc: 0.9127 - val_loss: 0.3760 - val_acc: 0.8988\n",
      "Epoch 78/100\n",
      "48000/48000 [==============================] - 0s - loss: 0.2908 - acc: 0.9140 - val_loss: 0.3582 - val_acc: 0.8992\n",
      "Epoch 79/100\n",
      "48000/48000 [==============================] - 0s - loss: 0.2907 - acc: 0.9137 - val_loss: 0.3265 - val_acc: 0.9075\n",
      "Epoch 80/100\n",
      "48000/48000 [==============================] - 0s - loss: 0.2924 - acc: 0.9122 - val_loss: 0.3373 - val_acc: 0.9036\n",
      "Epoch 81/100\n",
      "48000/48000 [==============================] - 0s - loss: 0.2846 - acc: 0.9142 - val_loss: 0.3465 - val_acc: 0.9031\n",
      "Epoch 82/100\n",
      "48000/48000 [==============================] - 0s - loss: 0.2917 - acc: 0.9137 - val_loss: 0.3758 - val_acc: 0.8980\n",
      "Epoch 83/100\n",
      "48000/48000 [==============================] - 0s - loss: 0.2998 - acc: 0.9104 - val_loss: 0.3440 - val_acc: 0.9019\n",
      "Epoch 84/100\n",
      "48000/48000 [==============================] - 0s - loss: 0.2917 - acc: 0.9131 - val_loss: 0.3425 - val_acc: 0.9024\n",
      "Epoch 85/100\n",
      "48000/48000 [==============================] - 0s - loss: 0.2880 - acc: 0.9146 - val_loss: 0.3433 - val_acc: 0.9044\n",
      "Epoch 86/100\n",
      "48000/48000 [==============================] - 0s - loss: 0.2886 - acc: 0.9137 - val_loss: 0.3369 - val_acc: 0.9068\n",
      "Epoch 87/100\n",
      "48000/48000 [==============================] - 0s - loss: 0.2910 - acc: 0.9127 - val_loss: 0.3522 - val_acc: 0.8993\n",
      "Epoch 88/100\n",
      "48000/48000 [==============================] - 0s - loss: 0.2936 - acc: 0.9132 - val_loss: 0.3391 - val_acc: 0.9033\n",
      "Epoch 89/100\n",
      "48000/48000 [==============================] - 0s - loss: 0.2892 - acc: 0.9144 - val_loss: 0.3569 - val_acc: 0.8972\n",
      "Epoch 90/100\n",
      "48000/48000 [==============================] - 0s - loss: 0.2887 - acc: 0.9131 - val_loss: 0.3357 - val_acc: 0.9039\n",
      "Epoch 91/100\n",
      "48000/48000 [==============================] - 0s - loss: 0.2894 - acc: 0.9131 - val_loss: 0.3287 - val_acc: 0.9055\n",
      "Epoch 92/100\n",
      "48000/48000 [==============================] - 0s - loss: 0.2929 - acc: 0.9129 - val_loss: 0.3447 - val_acc: 0.9002\n",
      "Epoch 93/100\n",
      "48000/48000 [==============================] - 0s - loss: 0.2929 - acc: 0.9126 - val_loss: 0.3455 - val_acc: 0.9032\n",
      "Epoch 94/100\n",
      "48000/48000 [==============================] - 0s - loss: 0.2898 - acc: 0.9135 - val_loss: 0.3534 - val_acc: 0.9003\n",
      "Epoch 95/100\n",
      "48000/48000 [==============================] - 0s - loss: 0.2850 - acc: 0.9156 - val_loss: 0.3806 - val_acc: 0.8959\n",
      "Epoch 96/100\n",
      "48000/48000 [==============================] - 0s - loss: 0.2885 - acc: 0.9140 - val_loss: 0.3460 - val_acc: 0.9015\n",
      "Epoch 97/100\n",
      "48000/48000 [==============================] - 0s - loss: 0.2895 - acc: 0.9133 - val_loss: 0.3562 - val_acc: 0.9026\n",
      "Epoch 98/100\n",
      "48000/48000 [==============================] - 0s - loss: 0.2898 - acc: 0.9140 - val_loss: 0.3460 - val_acc: 0.9024\n",
      "Epoch 99/100\n",
      "48000/48000 [==============================] - 0s - loss: 0.2852 - acc: 0.9151 - val_loss: 0.3263 - val_acc: 0.9078\n",
      "Epoch 100/100\n",
      "48000/48000 [==============================] - 0s - loss: 0.2890 - acc: 0.9135 - val_loss: 0.3486 - val_acc: 0.9047\n"
     ]
    }
   ],
   "source": [
    "model = create_model()\n",
    "print(model.summary())\n",
    "history = model.fit(X_train, y_train, validation_split=0.2, epochs = 100, batch_size = 200, verbose = 1, shuffle = 1)"
   ]
  },
  {
   "cell_type": "code",
   "execution_count": 10,
   "metadata": {},
   "outputs": [
    {
     "data": {
      "text/plain": [
       "[<matplotlib.lines.Line2D at 0x7f54dc31d2b0>]"
      ]
     },
     "execution_count": 10,
     "metadata": {},
     "output_type": "execute_result"
    },
    {
     "data": {
      "text/plain": [
       "[<matplotlib.lines.Line2D at 0x7f54dc31d668>]"
      ]
     },
     "execution_count": 10,
     "metadata": {},
     "output_type": "execute_result"
    },
    {
     "data": {
      "text/plain": [
       "<matplotlib.legend.Legend at 0x7f54dc31d860>"
      ]
     },
     "execution_count": 10,
     "metadata": {},
     "output_type": "execute_result"
    },
    {
     "data": {
      "text/plain": [
       "Text(0.5, 1.0, 'Loss')"
      ]
     },
     "execution_count": 10,
     "metadata": {},
     "output_type": "execute_result"
    },
    {
     "data": {
      "text/plain": [
       "Text(0.5, 0, 'epoch')"
      ]
     },
     "execution_count": 10,
     "metadata": {},
     "output_type": "execute_result"
    },
    {
     "data": {
      "image/png": "[encoded data removed]",
      "text/plain": [
       "<Figure size 432x288 with 1 Axes>"
      ]
     },
     "metadata": {
      "needs_background": "light"
     },
     "output_type": "display_data"
    }
   ],
   "source": [
    "plt.plot(history.history['loss'])\n",
    "plt.plot(history.history['val_loss'])\n",
    "plt.legend(['loss', 'val_loss'])\n",
    "plt.title('Loss')\n",
    "plt.xlabel('epoch')"
   ]
  },
  {
   "cell_type": "code",
   "execution_count": 11,
   "metadata": {},
   "outputs": [
    {
     "data": {
      "text/plain": [
       "[<matplotlib.lines.Line2D at 0x7f5490789278>]"
      ]
     },
     "execution_count": 11,
     "metadata": {},
     "output_type": "execute_result"
    },
    {
     "data": {
      "text/plain": [
       "[<matplotlib.lines.Line2D at 0x7f54907893c8>]"
      ]
     },
     "execution_count": 11,
     "metadata": {},
     "output_type": "execute_result"
    },
    {
     "data": {
      "text/plain": [
       "<matplotlib.legend.Legend at 0x7f54907895f8>"
      ]
     },
     "execution_count": 11,
     "metadata": {},
     "output_type": "execute_result"
    },
    {
     "data": {
      "text/plain": [
       "Text(0.5, 1.0, 'Accuracy')"
      ]
     },
     "execution_count": 11,
     "metadata": {},
     "output_type": "execute_result"
    },
    {
     "data": {
      "text/plain": [
       "Text(0.5, 0, 'epoch')"
      ]
     },
     "execution_count": 11,
     "metadata": {},
     "output_type": "execute_result"
    },
    {
     "data": {
      "image/png": "[encoded data removed]",
      "text/plain": [
       "<Figure size 432x288 with 1 Axes>"
      ]
     },
     "metadata": {
      "needs_background": "light"
     },
     "output_type": "display_data"
    }
   ],
   "source": [
    "plt.plot(history.history['acc'])\n",
    "plt.plot(history.history['val_acc'])\n",
    "plt.legend(['acc', 'val_acc'])\n",
    "plt.title('Accuracy')\n",
    "plt.xlabel('epoch')"
   ]
  },
  {
   "cell_type": "code",
   "execution_count": 12,
   "metadata": {},
   "outputs": [
    {
     "name": "stdout",
     "output_type": "stream",
     "text": [
      "<class 'list'>\n",
      "Test score: 0.3556767669737339\n",
      "Test accuracy: 0.9036\n"
     ]
    }
   ],
   "source": [
    "score = model.evaluate(X_test, y_test, verbose=0)\n",
    "print(type(score))\n",
    "print('Test score:', score[0])\n",
    "print('Test accuracy:', score[1])"
   ]
  },
  {
   "cell_type": "code",
   "execution_count": 13,
   "metadata": {},
   "outputs": [
    {
     "name": "stdout",
     "output_type": "stream",
     "text": [
      "Looking in indexes: https://pypi.tuna.tsinghua.edu.cn/simple\n",
      "Requirement already satisfied: requests in /home/longxiajun/MySoftware/Anaconda3/envs/Driving-Car3_6/lib/python3.5/site-packages (2.21.0)\n",
      "Requirement already satisfied: urllib3<1.25,>=1.21.1 in /home/longxiajun/MySoftware/Anaconda3/envs/Driving-Car3_6/lib/python3.5/site-packages (from requests) (1.24.1)\n",
      "Requirement already satisfied: chardet<3.1.0,>=3.0.2 in /home/longxiajun/MySoftware/Anaconda3/envs/Driving-Car3_6/lib/python3.5/site-packages (from requests) (3.0.4)\n",
      "Requirement already satisfied: certifi>=2017.4.17 in /home/longxiajun/MySoftware/Anaconda3/envs/Driving-Car3_6/lib/python3.5/site-packages (from requests) (2018.8.24)\n",
      "Requirement already satisfied: idna<2.9,>=2.5 in /home/longxiajun/MySoftware/Anaconda3/envs/Driving-Car3_6/lib/python3.5/site-packages (from requests) (2.8)\n",
      "Looking in indexes: https://pypi.tuna.tsinghua.edu.cn/simple\n",
      "Requirement already satisfied: pillow in /home/longxiajun/MySoftware/Anaconda3/envs/Driving-Car3_6/lib/python3.5/site-packages (5.4.1)\n"
     ]
    }
   ],
   "source": [
    "!pip install requests\n",
    "!pip install pillow"
   ]
  },
  {
   "cell_type": "code",
   "execution_count": 14,
   "metadata": {},
   "outputs": [
    {
     "data": {
      "text/plain": [
       "<matplotlib.image.AxesImage at 0x7f556c21fba8>"
      ]
     },
     "execution_count": 14,
     "metadata": {},
     "output_type": "execute_result"
    },
    {
     "data": {
      "image/png": "[encoded data removed]",
      "text/plain": [
       "<Figure size 432x288 with 1 Axes>"
      ]
     },
     "metadata": {
      "needs_background": "light"
     },
     "output_type": "display_data"
    }
   ],
   "source": [
    "import requests\n",
    "from PIL import Image\n",
    "\n",
    "url = 'https://www.researchgate.net/profile/Jose_Sempere/publication/221258631/figure/fig1/AS:305526891139075@1449854695342/Handwritten-digit-2.png'\n",
    "response = requests.get(url, stream=True)\n",
    "img = Image.open(response.raw)\n",
    "plt.imshow(img, cmap=plt.get_cmap('gray'))"
   ]
  },
  {
   "cell_type": "code",
   "execution_count": 15,
   "metadata": {},
   "outputs": [
    {
     "data": {
      "text/plain": [
       "<matplotlib.image.AxesImage at 0x7f556c1bac18>"
      ]
     },
     "execution_count": 15,
     "metadata": {},
     "output_type": "execute_result"
    },
    {
     "name": "stdout",
     "output_type": "stream",
     "text": [
      "1/1 [==============================] - 0s\n",
      "predicted digit: [2]\n"
     ]
    },
    {
     "data": {
      "image/png": "[encoded data removed]",
      "text/plain": [
       "<Figure size 432x288 with 1 Axes>"
      ]
     },
     "metadata": {
      "needs_background": "light"
     },
     "output_type": "display_data"
    }
   ],
   "source": [
    "import cv2\n",
    "\n",
    "img = np.asarray(img)\n",
    "img = cv2.resize(img, (28, 28))\n",
    "img = cv2.cvtColor(img, cv2.COLOR_BGR2GRAY)\n",
    "img = cv2.bitwise_not(img)\n",
    "plt.imshow(img, cmap=plt.get_cmap('gray'))\n",
    "\n",
    "img = img/255\n",
    "img = img.reshape(1, 784)\n",
    "\n",
    "prediction = model.predict_classes(img)\n",
    "print(\"predicted digit:\", str(prediction))"
   ]
  },
  {
   "cell_type": "code",
   "execution_count": null,
   "metadata": {},
   "outputs": [],
   "source": []
  }
 ],
 "metadata": {
  "kernelspec": {
   "display_name": "Python 3",
   "language": "python",
   "name": "python3"
  },
  "language_info": {
   "codemirror_mode": {
    "name": "ipython",
    "version": 3
   },
   "file_extension": ".py",
   "mimetype": "text/x-python",
   "name": "python",
   "nbconvert_exporter": "python",
   "pygments_lexer": "ipython3",
   "version": "3.5.6"
  }
 },
 "nbformat": 4,
 "nbformat_minor": 2
}
